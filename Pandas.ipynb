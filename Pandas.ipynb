{
 "cells": [
  {
   "cell_type": "markdown",
   "metadata": {
    "run_control": {
     "marked": false
    },
    "slideshow": {
     "slide_type": "slide"
    }
   },
   "source": [
    "# Pandas 動手玩\n",
    "## 倪鈵斯\n",
    "Less Loop, More Efficiency"
   ]
  },
  {
   "cell_type": "markdown",
   "metadata": {
    "slideshow": {
     "slide_type": "notes"
    }
   },
   "source": [
    "# About Me\n",
    "* 大三學長\n",
    "* 資料分析有興趣，找老師做研究\n",
    "* 丟給我很多有趣的東西，like Pandas"
   ]
  },
  {
   "cell_type": "markdown",
   "metadata": {
    "slideshow": {
     "slide_type": "slide"
    }
   },
   "source": [
    "# 什麼是Pandas\n",
    "* 高效能的資料處理套件"
   ]
  },
  {
   "cell_type": "markdown",
   "metadata": {
    "slideshow": {
     "slide_type": "slide"
    }
   },
   "source": [
    "# 與其他工具比較\n",
    "## Pandas vs Excel\n",
    "* 可以處理較大的資料\n",
    "* 上手之後很多事情都可以一行解決\n",
    "\n",
    "## Pandas vs Database\n",
    "* 比較輕量"
   ]
  },
  {
   "cell_type": "markdown",
   "metadata": {
    "slideshow": {
     "slide_type": "subslide"
    }
   },
   "source": [
    "## Pandas vs Pure Python"
   ]
  },
  {
   "cell_type": "code",
   "execution_count": 1,
   "metadata": {
    "collapsed": false,
    "slideshow": {
     "slide_type": "-"
    }
   },
   "outputs": [],
   "source": [
    "import numpy as np\n",
    "import pandas as pd\n",
    "\n",
    "sample_series = pd.Series(np.random.sample(1000000))\n",
    "sample_list = list(np.random.sample(1000000))"
   ]
  },
  {
   "cell_type": "code",
   "execution_count": 6,
   "metadata": {
    "collapsed": false
   },
   "outputs": [
    {
     "name": "stdout",
     "output_type": "stream",
     "text": [
      "1000 loops, best of 3: 1.58 ms per loop\n"
     ]
    }
   ],
   "source": [
    "%timeit sample_series+sample_series"
   ]
  },
  {
   "cell_type": "code",
   "execution_count": 7,
   "metadata": {
    "collapsed": false
   },
   "outputs": [
    {
     "name": "stdout",
     "output_type": "stream",
     "text": [
      "10 loops, best of 3: 85.6 ms per loop\n"
     ]
    }
   ],
   "source": [
    "%timeit [i+i for i in sample_list]"
   ]
  },
  {
   "cell_type": "markdown",
   "metadata": {
    "slideshow": {
     "slide_type": "subslide"
    }
   },
   "source": [
    "## 總結\n",
    "* Pandas適合處理中型的資料\n",
    "* Pandas很快"
   ]
  },
  {
   "cell_type": "markdown",
   "metadata": {
    "slideshow": {
     "slide_type": "slide"
    }
   },
   "source": [
    "# Take a Look"
   ]
  },
  {
   "cell_type": "code",
   "execution_count": 7,
   "metadata": {
    "code_folding": [],
    "collapsed": false,
    "slideshow": {
     "slide_type": "fragment"
    }
   },
   "outputs": [],
   "source": [
    "import pandas\n",
    "\n",
    "series = pandas.Series([160, 155, 170], index=['王小明', '陳大頭', '謝黑客'])\n",
    "df = pandas.DataFrame({\n",
    "        '身高': series,\n",
    "        '學校': '台灣科技大學'\n",
    "    })"
   ]
  },
  {
   "cell_type": "code",
   "execution_count": 8,
   "metadata": {
    "collapsed": false,
    "slideshow": {
     "slide_type": "fragment"
    }
   },
   "outputs": [
    {
     "data": {
      "text/plain": [
       "王小明    160\n",
       "陳大頭    155\n",
       "謝黑客    170\n",
       "dtype: int64"
      ]
     },
     "execution_count": 8,
     "metadata": {},
     "output_type": "execute_result"
    }
   ],
   "source": [
    "series"
   ]
  },
  {
   "cell_type": "code",
   "execution_count": 9,
   "metadata": {
    "collapsed": false
   },
   "outputs": [
    {
     "data": {
      "text/html": [
       "<div>\n",
       "<table border=\"1\" class=\"dataframe\">\n",
       "  <thead>\n",
       "    <tr style=\"text-align: right;\">\n",
       "      <th></th>\n",
       "      <th>學校</th>\n",
       "      <th>身高</th>\n",
       "    </tr>\n",
       "  </thead>\n",
       "  <tbody>\n",
       "    <tr>\n",
       "      <th>王小明</th>\n",
       "      <td>台灣科技大學</td>\n",
       "      <td>160</td>\n",
       "    </tr>\n",
       "    <tr>\n",
       "      <th>陳大頭</th>\n",
       "      <td>台灣科技大學</td>\n",
       "      <td>155</td>\n",
       "    </tr>\n",
       "    <tr>\n",
       "      <th>謝黑客</th>\n",
       "      <td>台灣科技大學</td>\n",
       "      <td>170</td>\n",
       "    </tr>\n",
       "  </tbody>\n",
       "</table>\n",
       "</div>"
      ],
      "text/plain": [
       "         學校   身高\n",
       "王小明  台灣科技大學  160\n",
       "陳大頭  台灣科技大學  155\n",
       "謝黑客  台灣科技大學  170"
      ]
     },
     "execution_count": 9,
     "metadata": {},
     "output_type": "execute_result"
    }
   ],
   "source": [
    "df"
   ]
  },
  {
   "cell_type": "markdown",
   "metadata": {
    "slideshow": {
     "slide_type": "subslide"
    }
   },
   "source": [
    "## 引用模組的其他方式"
   ]
  },
  {
   "cell_type": "markdown",
   "metadata": {
    "slideshow": {
     "slide_type": "fragment"
    }
   },
   "source": [
    "### 別名"
   ]
  },
  {
   "cell_type": "code",
   "execution_count": 10,
   "metadata": {
    "collapsed": false,
    "slideshow": {
     "slide_type": "-"
    }
   },
   "outputs": [],
   "source": [
    "import pandas as pd\n",
    "\n",
    "series = pd.Series([160, 155, 170], index=['王小明', '陳大頭', '謝黑客'])\n",
    "df = pd.DataFrame({\n",
    "        '身高': series,\n",
    "        '學校': '台灣科技大學'\n",
    "    })"
   ]
  },
  {
   "cell_type": "markdown",
   "metadata": {
    "slideshow": {
     "slide_type": "fragment"
    }
   },
   "source": [
    "### 只引入要用的東西"
   ]
  },
  {
   "cell_type": "code",
   "execution_count": 11,
   "metadata": {
    "collapsed": true,
    "slideshow": {
     "slide_type": "-"
    }
   },
   "outputs": [],
   "source": [
    "from pandas import Series, DataFrame\n",
    "\n",
    "series = Series([160, 155, 170], index=['王小明', '陳大頭', '謝黑客'])\n",
    "df = DataFrame({\n",
    "        '身高': series,\n",
    "        '學校': '台灣科技大學'\n",
    "    })"
   ]
  },
  {
   "cell_type": "code",
   "execution_count": 12,
   "metadata": {
    "collapsed": false,
    "hide_input": true,
    "slideshow": {
     "slide_type": "subslide"
    }
   },
   "outputs": [
    {
     "data": {
      "text/html": [
       "\n",
       "        <iframe\n",
       "            width=\"900\"\n",
       "            height=\"500\"\n",
       "            src=\"/notebooks/python-course/playground.ipynb\"\n",
       "            frameborder=\"0\"\n",
       "            allowfullscreen\n",
       "        ></iframe>\n",
       "        "
      ],
      "text/plain": [
       "<IPython.lib.display.IFrame at 0x7f7ac0bf2198>"
      ]
     },
     "execution_count": 12,
     "metadata": {},
     "output_type": "execute_result"
    }
   ],
   "source": [
    "# Import the IPython display module\n",
    "from IPython.display import IFrame\n",
    "IFrame('/notebooks/python-course/playground.ipynb', width=900, height=500)"
   ]
  },
  {
   "cell_type": "markdown",
   "metadata": {
    "collapsed": true,
    "run_control": {
     "marked": false
    },
    "slideshow": {
     "slide_type": "slide"
    }
   },
   "source": [
    "# 使用Pandas不可不知的兩種資料型態（類別）\n",
    "* Series\n",
    "* Dataframe\n"
   ]
  },
  {
   "cell_type": "markdown",
   "metadata": {
    "run_control": {
     "marked": false
    },
    "slideshow": {
     "slide_type": "slide"
    }
   },
   "source": [
    "# Series（序列）簡介\n",
    "### Series vs List\n",
    "* 同：群集資料型態、有序的\n",
    "* 異：同一個Series只能是相同型態的物件\n",
    "\n",
    "\n",
    "| 類別| 舉例| \n",
    "|-|-|\n",
    "|list|[1, 0.5, 'str', ['ntust']]]|\n",
    "|Series|pd.Series([1, 2, 3, 4, 5])|\n",
    "\n",
    "\n"
   ]
  },
  {
   "cell_type": "code",
   "execution_count": 85,
   "metadata": {
    "collapsed": false,
    "slideshow": {
     "slide_type": "fragment"
    }
   },
   "outputs": [
    {
     "name": "stdout",
     "output_type": "stream",
     "text": [
      "['✈', 729, \"ob'_'bv\", {}]\n",
      "[\"ob'_'bv\", {}]\n"
     ]
    }
   ],
   "source": [
    "list_ = ['✈', 9**3,  \"ob'_'bv\", {}]\n",
    "print(list_)\n",
    "print(list_[2:])"
   ]
  },
  {
   "cell_type": "code",
   "execution_count": 86,
   "metadata": {
    "collapsed": false,
    "slideshow": {
     "slide_type": "subslide"
    }
   },
   "outputs": [
    {
     "name": "stdout",
     "output_type": "stream",
     "text": [
      "2    ob'_'bv\n",
      "3         {}\n",
      "dtype: object\n",
      "object\n"
     ]
    },
    {
     "ename": "ValueError",
     "evalue": "invalid literal for int() with base 10: '✈'",
     "output_type": "error",
     "traceback": [
      "\u001b[1;31m---------------------------------------------------------------------------\u001b[0m",
      "\u001b[1;31mValueError\u001b[0m                                Traceback (most recent call last)",
      "\u001b[1;32m<ipython-input-86-40a011ed83a4>\u001b[0m in \u001b[0;36m<module>\u001b[1;34m()\u001b[0m\n\u001b[0;32m      3\u001b[0m \u001b[1;33m\u001b[0m\u001b[0m\n\u001b[0;32m      4\u001b[0m \u001b[0mprint\u001b[0m\u001b[1;33m(\u001b[0m\u001b[0mseries\u001b[0m\u001b[1;33m.\u001b[0m\u001b[0mdtype\u001b[0m\u001b[1;33m)\u001b[0m\u001b[1;33m\u001b[0m\u001b[0m\n\u001b[1;32m----> 5\u001b[1;33m \u001b[0mprint\u001b[0m\u001b[1;33m(\u001b[0m\u001b[0mseries\u001b[0m\u001b[1;33m.\u001b[0m\u001b[0mastype\u001b[0m\u001b[1;33m(\u001b[0m\u001b[1;34m'int64'\u001b[0m\u001b[1;33m)\u001b[0m\u001b[1;33m.\u001b[0m\u001b[0mdtype\u001b[0m\u001b[1;33m)\u001b[0m\u001b[1;33m\u001b[0m\u001b[0m\n\u001b[0m",
      "\u001b[1;32m/usr/local/lib/python3.4/dist-packages/pandas/core/generic.py\u001b[0m in \u001b[0;36mastype\u001b[1;34m(self, dtype, copy, raise_on_error, **kwargs)\u001b[0m\n\u001b[0;32m   2630\u001b[0m \u001b[1;33m\u001b[0m\u001b[0m\n\u001b[0;32m   2631\u001b[0m         mgr = self._data.astype(\n\u001b[1;32m-> 2632\u001b[1;33m             dtype=dtype, copy=copy, raise_on_error=raise_on_error, **kwargs)\n\u001b[0m\u001b[0;32m   2633\u001b[0m         \u001b[1;32mreturn\u001b[0m \u001b[0mself\u001b[0m\u001b[1;33m.\u001b[0m\u001b[0m_constructor\u001b[0m\u001b[1;33m(\u001b[0m\u001b[0mmgr\u001b[0m\u001b[1;33m)\u001b[0m\u001b[1;33m.\u001b[0m\u001b[0m__finalize__\u001b[0m\u001b[1;33m(\u001b[0m\u001b[0mself\u001b[0m\u001b[1;33m)\u001b[0m\u001b[1;33m\u001b[0m\u001b[0m\n\u001b[0;32m   2634\u001b[0m \u001b[1;33m\u001b[0m\u001b[0m\n",
      "\u001b[1;32m/usr/local/lib/python3.4/dist-packages/pandas/core/internals.py\u001b[0m in \u001b[0;36mastype\u001b[1;34m(self, dtype, **kwargs)\u001b[0m\n\u001b[0;32m   2862\u001b[0m \u001b[1;33m\u001b[0m\u001b[0m\n\u001b[0;32m   2863\u001b[0m     \u001b[1;32mdef\u001b[0m \u001b[0mastype\u001b[0m\u001b[1;33m(\u001b[0m\u001b[0mself\u001b[0m\u001b[1;33m,\u001b[0m \u001b[0mdtype\u001b[0m\u001b[1;33m,\u001b[0m \u001b[1;33m**\u001b[0m\u001b[0mkwargs\u001b[0m\u001b[1;33m)\u001b[0m\u001b[1;33m:\u001b[0m\u001b[1;33m\u001b[0m\u001b[0m\n\u001b[1;32m-> 2864\u001b[1;33m         \u001b[1;32mreturn\u001b[0m \u001b[0mself\u001b[0m\u001b[1;33m.\u001b[0m\u001b[0mapply\u001b[0m\u001b[1;33m(\u001b[0m\u001b[1;34m'astype'\u001b[0m\u001b[1;33m,\u001b[0m \u001b[0mdtype\u001b[0m\u001b[1;33m=\u001b[0m\u001b[0mdtype\u001b[0m\u001b[1;33m,\u001b[0m \u001b[1;33m**\u001b[0m\u001b[0mkwargs\u001b[0m\u001b[1;33m)\u001b[0m\u001b[1;33m\u001b[0m\u001b[0m\n\u001b[0m\u001b[0;32m   2865\u001b[0m \u001b[1;33m\u001b[0m\u001b[0m\n\u001b[0;32m   2866\u001b[0m     \u001b[1;32mdef\u001b[0m \u001b[0mconvert\u001b[0m\u001b[1;33m(\u001b[0m\u001b[0mself\u001b[0m\u001b[1;33m,\u001b[0m \u001b[1;33m**\u001b[0m\u001b[0mkwargs\u001b[0m\u001b[1;33m)\u001b[0m\u001b[1;33m:\u001b[0m\u001b[1;33m\u001b[0m\u001b[0m\n",
      "\u001b[1;32m/usr/local/lib/python3.4/dist-packages/pandas/core/internals.py\u001b[0m in \u001b[0;36mapply\u001b[1;34m(self, f, axes, filter, do_integrity_check, consolidate, **kwargs)\u001b[0m\n\u001b[0;32m   2821\u001b[0m \u001b[1;33m\u001b[0m\u001b[0m\n\u001b[0;32m   2822\u001b[0m             \u001b[0mkwargs\u001b[0m\u001b[1;33m[\u001b[0m\u001b[1;34m'mgr'\u001b[0m\u001b[1;33m]\u001b[0m \u001b[1;33m=\u001b[0m \u001b[0mself\u001b[0m\u001b[1;33m\u001b[0m\u001b[0m\n\u001b[1;32m-> 2823\u001b[1;33m             \u001b[0mapplied\u001b[0m \u001b[1;33m=\u001b[0m \u001b[0mgetattr\u001b[0m\u001b[1;33m(\u001b[0m\u001b[0mb\u001b[0m\u001b[1;33m,\u001b[0m \u001b[0mf\u001b[0m\u001b[1;33m)\u001b[0m\u001b[1;33m(\u001b[0m\u001b[1;33m**\u001b[0m\u001b[0mkwargs\u001b[0m\u001b[1;33m)\u001b[0m\u001b[1;33m\u001b[0m\u001b[0m\n\u001b[0m\u001b[0;32m   2824\u001b[0m             \u001b[0mresult_blocks\u001b[0m \u001b[1;33m=\u001b[0m \u001b[0m_extend_blocks\u001b[0m\u001b[1;33m(\u001b[0m\u001b[0mapplied\u001b[0m\u001b[1;33m,\u001b[0m \u001b[0mresult_blocks\u001b[0m\u001b[1;33m)\u001b[0m\u001b[1;33m\u001b[0m\u001b[0m\n\u001b[0;32m   2825\u001b[0m \u001b[1;33m\u001b[0m\u001b[0m\n",
      "\u001b[1;32m/usr/local/lib/python3.4/dist-packages/pandas/core/internals.py\u001b[0m in \u001b[0;36mastype\u001b[1;34m(self, dtype, copy, raise_on_error, values, **kwargs)\u001b[0m\n\u001b[0;32m    428\u001b[0m     \u001b[1;32mdef\u001b[0m \u001b[0mastype\u001b[0m\u001b[1;33m(\u001b[0m\u001b[0mself\u001b[0m\u001b[1;33m,\u001b[0m \u001b[0mdtype\u001b[0m\u001b[1;33m,\u001b[0m \u001b[0mcopy\u001b[0m\u001b[1;33m=\u001b[0m\u001b[1;32mFalse\u001b[0m\u001b[1;33m,\u001b[0m \u001b[0mraise_on_error\u001b[0m\u001b[1;33m=\u001b[0m\u001b[1;32mTrue\u001b[0m\u001b[1;33m,\u001b[0m \u001b[0mvalues\u001b[0m\u001b[1;33m=\u001b[0m\u001b[1;32mNone\u001b[0m\u001b[1;33m,\u001b[0m \u001b[1;33m**\u001b[0m\u001b[0mkwargs\u001b[0m\u001b[1;33m)\u001b[0m\u001b[1;33m:\u001b[0m\u001b[1;33m\u001b[0m\u001b[0m\n\u001b[0;32m    429\u001b[0m         return self._astype(dtype, copy=copy, raise_on_error=raise_on_error,\n\u001b[1;32m--> 430\u001b[1;33m                             values=values, **kwargs)\n\u001b[0m\u001b[0;32m    431\u001b[0m \u001b[1;33m\u001b[0m\u001b[0m\n\u001b[0;32m    432\u001b[0m     def _astype(self, dtype, copy=False, raise_on_error=True, values=None,\n",
      "\u001b[1;32m/usr/local/lib/python3.4/dist-packages/pandas/core/internals.py\u001b[0m in \u001b[0;36m_astype\u001b[1;34m(self, dtype, copy, raise_on_error, values, klass, mgr, **kwargs)\u001b[0m\n\u001b[0;32m    470\u001b[0m \u001b[1;33m\u001b[0m\u001b[0m\n\u001b[0;32m    471\u001b[0m                 \u001b[1;31m# _astype_nansafe works fine with 1-d only\u001b[0m\u001b[1;33m\u001b[0m\u001b[1;33m\u001b[0m\u001b[0m\n\u001b[1;32m--> 472\u001b[1;33m                 \u001b[0mvalues\u001b[0m \u001b[1;33m=\u001b[0m \u001b[0mcom\u001b[0m\u001b[1;33m.\u001b[0m\u001b[0m_astype_nansafe\u001b[0m\u001b[1;33m(\u001b[0m\u001b[0mvalues\u001b[0m\u001b[1;33m.\u001b[0m\u001b[0mravel\u001b[0m\u001b[1;33m(\u001b[0m\u001b[1;33m)\u001b[0m\u001b[1;33m,\u001b[0m \u001b[0mdtype\u001b[0m\u001b[1;33m,\u001b[0m \u001b[0mcopy\u001b[0m\u001b[1;33m=\u001b[0m\u001b[1;32mTrue\u001b[0m\u001b[1;33m)\u001b[0m\u001b[1;33m\u001b[0m\u001b[0m\n\u001b[0m\u001b[0;32m    473\u001b[0m                 \u001b[0mvalues\u001b[0m \u001b[1;33m=\u001b[0m \u001b[0mvalues\u001b[0m\u001b[1;33m.\u001b[0m\u001b[0mreshape\u001b[0m\u001b[1;33m(\u001b[0m\u001b[0mself\u001b[0m\u001b[1;33m.\u001b[0m\u001b[0mshape\u001b[0m\u001b[1;33m)\u001b[0m\u001b[1;33m\u001b[0m\u001b[0m\n\u001b[0;32m    474\u001b[0m \u001b[1;33m\u001b[0m\u001b[0m\n",
      "\u001b[1;32m/usr/local/lib/python3.4/dist-packages/pandas/core/common.py\u001b[0m in \u001b[0;36m_astype_nansafe\u001b[1;34m(arr, dtype, copy)\u001b[0m\n\u001b[0;32m   2461\u001b[0m     \u001b[1;32melif\u001b[0m \u001b[0marr\u001b[0m\u001b[1;33m.\u001b[0m\u001b[0mdtype\u001b[0m \u001b[1;33m==\u001b[0m \u001b[0mnp\u001b[0m\u001b[1;33m.\u001b[0m\u001b[0mobject_\u001b[0m \u001b[1;32mand\u001b[0m \u001b[0mnp\u001b[0m\u001b[1;33m.\u001b[0m\u001b[0missubdtype\u001b[0m\u001b[1;33m(\u001b[0m\u001b[0mdtype\u001b[0m\u001b[1;33m.\u001b[0m\u001b[0mtype\u001b[0m\u001b[1;33m,\u001b[0m \u001b[0mnp\u001b[0m\u001b[1;33m.\u001b[0m\u001b[0minteger\u001b[0m\u001b[1;33m)\u001b[0m\u001b[1;33m:\u001b[0m\u001b[1;33m\u001b[0m\u001b[0m\n\u001b[0;32m   2462\u001b[0m         \u001b[1;31m# work around NumPy brokenness, #1987\u001b[0m\u001b[1;33m\u001b[0m\u001b[1;33m\u001b[0m\u001b[0m\n\u001b[1;32m-> 2463\u001b[1;33m         \u001b[1;32mreturn\u001b[0m \u001b[0mlib\u001b[0m\u001b[1;33m.\u001b[0m\u001b[0mastype_intsafe\u001b[0m\u001b[1;33m(\u001b[0m\u001b[0marr\u001b[0m\u001b[1;33m.\u001b[0m\u001b[0mravel\u001b[0m\u001b[1;33m(\u001b[0m\u001b[1;33m)\u001b[0m\u001b[1;33m,\u001b[0m \u001b[0mdtype\u001b[0m\u001b[1;33m)\u001b[0m\u001b[1;33m.\u001b[0m\u001b[0mreshape\u001b[0m\u001b[1;33m(\u001b[0m\u001b[0marr\u001b[0m\u001b[1;33m.\u001b[0m\u001b[0mshape\u001b[0m\u001b[1;33m)\u001b[0m\u001b[1;33m\u001b[0m\u001b[0m\n\u001b[0m\u001b[0;32m   2464\u001b[0m \u001b[1;33m\u001b[0m\u001b[0m\n\u001b[0;32m   2465\u001b[0m     \u001b[1;32mif\u001b[0m \u001b[0mcopy\u001b[0m\u001b[1;33m:\u001b[0m\u001b[1;33m\u001b[0m\u001b[0m\n",
      "\u001b[1;32mpandas/lib.pyx\u001b[0m in \u001b[0;36mpandas.lib.astype_intsafe (pandas/lib.c:16612)\u001b[1;34m()\u001b[0m\n",
      "\u001b[1;32mpandas/src/util.pxd\u001b[0m in \u001b[0;36mutil.set_value_at (pandas/lib.c:67514)\u001b[1;34m()\u001b[0m\n",
      "\u001b[1;31mValueError\u001b[0m: invalid literal for int() with base 10: '✈'"
     ]
    }
   ],
   "source": [
    "series = pd.Series(['✈', 9**3,  \"ob'_'bv\", {}])\n",
    "print(series[2:])\n",
    "print(series.astype('int64').dtype)"
   ]
  },
  {
   "cell_type": "markdown",
   "metadata": {
    "slideshow": {
     "slide_type": "slide"
    }
   },
   "source": [
    "# 操作Series"
   ]
  },
  {
   "cell_type": "markdown",
   "metadata": {
    "slideshow": {
     "slide_type": "-"
    }
   },
   "source": [
    "## Series的取值\n",
    "* Series是有序的"
   ]
  },
  {
   "cell_type": "code",
   "execution_count": 90,
   "metadata": {
    "collapsed": true
   },
   "outputs": [],
   "source": [
    "series = pd.Series([1, 2, 3, 4, 5])"
   ]
  },
  {
   "cell_type": "code",
   "execution_count": 91,
   "metadata": {
    "collapsed": false
   },
   "outputs": [
    {
     "data": {
      "text/plain": [
       "4"
      ]
     },
     "execution_count": 91,
     "metadata": {},
     "output_type": "execute_result"
    }
   ],
   "source": [
    "series[3]"
   ]
  },
  {
   "cell_type": "code",
   "execution_count": 92,
   "metadata": {
    "collapsed": false
   },
   "outputs": [
    {
     "data": {
      "text/plain": [
       "3    4\n",
       "4    5\n",
       "dtype: int64"
      ]
     },
     "execution_count": 92,
     "metadata": {},
     "output_type": "execute_result"
    }
   ],
   "source": [
    "series[3:]"
   ]
  },
  {
   "cell_type": "code",
   "execution_count": 94,
   "metadata": {
    "collapsed": false
   },
   "outputs": [
    {
     "data": {
      "text/plain": [
       "0    0\n",
       "1    2\n",
       "2    3\n",
       "3    4\n",
       "4    5\n",
       "dtype: int64"
      ]
     },
     "execution_count": 94,
     "metadata": {},
     "output_type": "execute_result"
    }
   ],
   "source": [
    "series[0] = 0\n",
    "series"
   ]
  },
  {
   "cell_type": "markdown",
   "metadata": {
    "slideshow": {
     "slide_type": "subslide"
    }
   },
   "source": [
    "## 加強版的取值"
   ]
  },
  {
   "cell_type": "code",
   "execution_count": 98,
   "metadata": {
    "collapsed": true
   },
   "outputs": [],
   "source": [
    "成績 = pd.Series([55, 40, 30, 10, 99])"
   ]
  },
  {
   "cell_type": "code",
   "execution_count": 100,
   "metadata": {
    "collapsed": false
   },
   "outputs": [
    {
     "data": {
      "text/plain": [
       "0    False\n",
       "1    False\n",
       "2    False\n",
       "3    False\n",
       "4     True\n",
       "dtype: bool"
      ]
     },
     "execution_count": 100,
     "metadata": {},
     "output_type": "execute_result"
    }
   ],
   "source": [
    "成績 > 60"
   ]
  },
  {
   "cell_type": "code",
   "execution_count": 101,
   "metadata": {
    "collapsed": false
   },
   "outputs": [
    {
     "data": {
      "text/plain": [
       "4    99\n",
       "dtype: int64"
      ]
     },
     "execution_count": 101,
     "metadata": {},
     "output_type": "execute_result"
    }
   ],
   "source": [
    "成績[成績 > 60]"
   ]
  },
  {
   "cell_type": "markdown",
   "metadata": {
    "slideshow": {
     "slide_type": "subslide"
    }
   },
   "source": [
    "## Series的運算"
   ]
  },
  {
   "cell_type": "code",
   "execution_count": 102,
   "metadata": {
    "collapsed": true,
    "slideshow": {
     "slide_type": "-"
    }
   },
   "outputs": [],
   "source": [
    "成績 = pd.Series([55, 40, 30, 10, 99])"
   ]
  },
  {
   "cell_type": "code",
   "execution_count": 103,
   "metadata": {
    "collapsed": false,
    "run_control": {
     "marked": false
    },
    "slideshow": {
     "slide_type": "-"
    }
   },
   "outputs": [
    {
     "name": "stdout",
     "output_type": "stream",
     "text": [
      "0     65\n",
      "1     50\n",
      "2     40\n",
      "3     20\n",
      "4    109\n",
      "dtype: int64\n",
      "0    16.5\n",
      "1    12.0\n",
      "2     9.0\n",
      "3     3.0\n",
      "4    29.7\n",
      "dtype: float64\n",
      "0    74.161985\n",
      "1    63.245553\n",
      "2    54.772256\n",
      "3    31.622777\n",
      "4    99.498744\n",
      "dtype: float64\n"
     ]
    }
   ],
   "source": [
    "print(成績+10)\n",
    "print(成績*0.3)\n",
    "print(成績**0.5*10)"
   ]
  },
  {
   "cell_type": "markdown",
   "metadata": {
    "slideshow": {
     "slide_type": "subslide"
    }
   },
   "source": [
    "# 現在你看懂了嗎？"
   ]
  },
  {
   "cell_type": "code",
   "execution_count": 2,
   "metadata": {
    "collapsed": true
   },
   "outputs": [],
   "source": [
    "import numpy as np\n",
    "import pandas as pd\n",
    "\n",
    "sample_series = pd.Series(np.random.sample(1000000))\n",
    "sample_list = list(np.random.sample(1000000))"
   ]
  },
  {
   "cell_type": "code",
   "execution_count": 3,
   "metadata": {
    "collapsed": false
   },
   "outputs": [
    {
     "name": "stdout",
     "output_type": "stream",
     "text": [
      "100 loops, best of 3: 1.89 ms per loop\n"
     ]
    }
   ],
   "source": [
    "%timeit sample_series+sample_series"
   ]
  },
  {
   "cell_type": "code",
   "execution_count": 4,
   "metadata": {
    "collapsed": false
   },
   "outputs": [
    {
     "name": "stdout",
     "output_type": "stream",
     "text": [
      "10 loops, best of 3: 95.7 ms per loop\n"
     ]
    }
   ],
   "source": [
    "%timeit [i+i for i in sample_list]"
   ]
  },
  {
   "cell_type": "code",
   "execution_count": 12,
   "metadata": {
    "collapsed": false,
    "hide_input": true,
    "slideshow": {
     "slide_type": "subslide"
    }
   },
   "outputs": [
    {
     "data": {
      "text/html": [
       "\n",
       "        <iframe\n",
       "            width=\"900\"\n",
       "            height=\"500\"\n",
       "            src=\"/notebooks/python-course/playground.ipynb\"\n",
       "            frameborder=\"0\"\n",
       "            allowfullscreen\n",
       "        ></iframe>\n",
       "        "
      ],
      "text/plain": [
       "<IPython.lib.display.IFrame at 0x7f7ac0bf2198>"
      ]
     },
     "execution_count": 12,
     "metadata": {},
     "output_type": "execute_result"
    }
   ],
   "source": [
    "# Import the IPython display module\n",
    "from IPython.display import IFrame\n",
    "IFrame('/notebooks/python-course/playground.ipynb', width=900, height=500)"
   ]
  },
  {
   "cell_type": "markdown",
   "metadata": {
    "slideshow": {
     "slide_type": "notes"
    }
   },
   "source": [
    "也可以跟另外一個相加減乘除！"
   ]
  },
  {
   "cell_type": "markdown",
   "metadata": {
    "slideshow": {
     "slide_type": "slide"
    }
   },
   "source": [
    "# Series也有不擅長的地方\n",
    "\n",
    "* Series缺乏延展性，一旦建立就無法改變長度"
   ]
  },
  {
   "cell_type": "code",
   "execution_count": 2,
   "metadata": {
    "collapsed": false,
    "slideshow": {
     "slide_type": "subslide"
    }
   },
   "outputs": [
    {
     "name": "stdout",
     "output_type": "stream",
     "text": [
      "139910104334280 []\n",
      "139910104334280 [1, 2, 3, 4]\n"
     ]
    }
   ],
   "source": [
    "x = []\n",
    "print(id(x), x)\n",
    "x.append(1) # <- [1]\n",
    "x.append(2) # <- [1, 2]\n",
    "x.append(3) # <- [1, 2, 3]\n",
    "x.append(4) # <- [1, 2, 3, 4]\n",
    "print(id(x), x)"
   ]
  },
  {
   "cell_type": "markdown",
   "metadata": {},
   "source": [
    "<img  src=\"giphy.gif\"/>"
   ]
  },
  {
   "cell_type": "code",
   "execution_count": 7,
   "metadata": {
    "collapsed": false,
    "slideshow": {
     "slide_type": "skip"
    }
   },
   "outputs": [
    {
     "name": "stdout",
     "output_type": "stream",
     "text": [
      "139909627960512 []\n",
      "139909627960344 [1, 2, 3, 4]\n"
     ]
    }
   ],
   "source": [
    "x = pd.Series([])\n",
    "print(id(x), list(x))\n",
    "x = x.append(pd.Series([1])) # <- [1]\n",
    "x = x.append(pd.Series([2])) # <- [1, 2]\n",
    "x = x.append(pd.Series([3])) # <- [1, 2, 3]\n",
    "x = x.append(pd.Series([4])) # <- [1, 2, 3, 4]\n",
    "print(id(x), list(x))"
   ]
  },
  {
   "cell_type": "code",
   "execution_count": 7,
   "metadata": {
    "collapsed": false,
    "slideshow": {
     "slide_type": "subslide"
    }
   },
   "outputs": [
    {
     "name": "stdout",
     "output_type": "stream",
     "text": [
      "139909627960512 []\n",
      "139909627960344 [1, 2, 3, 4]\n"
     ]
    }
   ],
   "source": [
    "x = pd.Series([])\n",
    "print(id(x), list(x))\n",
    "x = x.append(pd.Series([1])) # <- [1]\n",
    "x = x.append(pd.Series([2])) # <- [1, 2]\n",
    "x = x.append(pd.Series([3])) # <- [1, 2, 3]\n",
    "x = x.append(pd.Series([4])) # <- [1, 2, 3, 4]\n",
    "print(id(x), list(x))"
   ]
  },
  {
   "cell_type": "markdown",
   "metadata": {
    "slideshow": {
     "slide_type": "-"
    }
   },
   "source": [
    "<img  src=\"7cefdfa5jw1etvmei5o3ig206o06dkjl.gif\"/>"
   ]
  },
  {
   "cell_type": "markdown",
   "metadata": {
    "slideshow": {
     "slide_type": "subslide"
    }
   },
   "source": [
    "## 簡單總結\n",
    "\n",
    "|類別|Series|List|\n",
    "|-|-|-|\n",
    "|特點|優異的運算速度|資料操作較靈活|\n",
    "|代價|一旦建立就不能改變長度|運算速度較差|\n",
    "\n",
    "* 不要瞧不起List，List也是很厲害的！"
   ]
  },
  {
   "cell_type": "markdown",
   "metadata": {
    "slideshow": {
     "slide_type": "slide"
    }
   },
   "source": [
    "# Series的Index\n",
    "* 有的時候，他又很像Dictionary\n",
    "\n",
    "| 類別| 舉例| \n",
    "|-|-|\n",
    "|Dictionary|{'小明': 2, '小華': 4, '小美': 6}|\n",
    "|Series|pd.Series([1, 2, 3], index=['小明', '小華', '小美'])|"
   ]
  },
  {
   "cell_type": "markdown",
   "metadata": {
    "slideshow": {
     "slide_type": "subslide"
    }
   },
   "source": [
    "## 建立一個有Index的Series"
   ]
  },
  {
   "cell_type": "code",
   "execution_count": 73,
   "metadata": {
    "collapsed": true,
    "slideshow": {
     "slide_type": "-"
    }
   },
   "outputs": [],
   "source": [
    "絆倒次數 = pd.Series([1, 2, 3], index=['小明', '小華', '小美'])"
   ]
  },
  {
   "cell_type": "code",
   "execution_count": 44,
   "metadata": {
    "collapsed": false
   },
   "outputs": [
    {
     "data": {
      "text/plain": [
       "2"
      ]
     },
     "execution_count": 44,
     "metadata": {},
     "output_type": "execute_result"
    }
   ],
   "source": [
    "絆倒次數['小華']"
   ]
  },
  {
   "cell_type": "markdown",
   "metadata": {
    "collapsed": false,
    "slideshow": {
     "slide_type": "fragment"
    }
   },
   "source": [
    "## 甚至可以將一個dict轉型為Series"
   ]
  },
  {
   "cell_type": "code",
   "execution_count": 67,
   "metadata": {
    "collapsed": true
   },
   "outputs": [],
   "source": [
    "年紀 = pd.Series({'小明': 2, '小華': 4, '小美': 6})"
   ]
  },
  {
   "cell_type": "markdown",
   "metadata": {
    "slideshow": {
     "slide_type": "notes"
    }
   },
   "source": [
    "But就變無序了"
   ]
  },
  {
   "cell_type": "code",
   "execution_count": 68,
   "metadata": {
    "collapsed": false
   },
   "outputs": [
    {
     "data": {
      "text/plain": [
       "6"
      ]
     },
     "execution_count": 68,
     "metadata": {},
     "output_type": "execute_result"
    }
   ],
   "source": [
    "年紀['小美']"
   ]
  },
  {
   "cell_type": "markdown",
   "metadata": {
    "slideshow": {
     "slide_type": "subslide"
    }
   },
   "source": [
    "# 有Index的Series的操作"
   ]
  },
  {
   "cell_type": "markdown",
   "metadata": {},
   "source": [
    "## 有Index的Series的取值"
   ]
  },
  {
   "cell_type": "code",
   "execution_count": 69,
   "metadata": {
    "collapsed": false
   },
   "outputs": [
    {
     "data": {
      "text/plain": [
       "小明    3\n",
       "小華    4\n",
       "小美    5\n",
       "dtype: int64"
      ]
     },
     "execution_count": 69,
     "metadata": {},
     "output_type": "execute_result"
    }
   ],
   "source": [
    "絆倒次數"
   ]
  },
  {
   "cell_type": "code",
   "execution_count": 70,
   "metadata": {
    "collapsed": false
   },
   "outputs": [
    {
     "data": {
      "text/plain": [
       "小華    4\n",
       "小美    5\n",
       "dtype: int64"
      ]
     },
     "execution_count": 70,
     "metadata": {},
     "output_type": "execute_result"
    }
   ],
   "source": [
    "絆倒次數['小華':'小美']"
   ]
  },
  {
   "cell_type": "markdown",
   "metadata": {
    "slideshow": {
     "slide_type": "subslide"
    }
   },
   "source": [
    "## 有Index的Series的運算"
   ]
  },
  {
   "cell_type": "code",
   "execution_count": 76,
   "metadata": {
    "collapsed": false
   },
   "outputs": [
    {
     "data": {
      "text/plain": [
       "小明    1\n",
       "小華    2\n",
       "小美    3\n",
       "dtype: int64"
      ]
     },
     "execution_count": 76,
     "metadata": {},
     "output_type": "execute_result"
    }
   ],
   "source": [
    "絆倒次數"
   ]
  },
  {
   "cell_type": "code",
   "execution_count": 77,
   "metadata": {
    "collapsed": false
   },
   "outputs": [
    {
     "data": {
      "text/plain": [
       "小明    2\n",
       "小美    6\n",
       "小華    4\n",
       "dtype: int64"
      ]
     },
     "execution_count": 77,
     "metadata": {},
     "output_type": "execute_result"
    }
   ],
   "source": [
    "年紀"
   ]
  },
  {
   "cell_type": "code",
   "execution_count": 75,
   "metadata": {
    "collapsed": false,
    "slideshow": {
     "slide_type": "fragment"
    }
   },
   "outputs": [
    {
     "data": {
      "text/plain": [
       "小明    2\n",
       "小美    2\n",
       "小華    2\n",
       "dtype: float64"
      ]
     },
     "execution_count": 75,
     "metadata": {},
     "output_type": "execute_result"
    }
   ],
   "source": [
    "年紀 / 絆倒次數"
   ]
  },
  {
   "cell_type": "markdown",
   "metadata": {
    "slideshow": {
     "slide_type": "slide"
    }
   },
   "source": [
    "# Series 實際演練\n",
    "白雪公主想買🍎，可以幫他看看哪個國家的🍎最便宜嗎？"
   ]
  },
  {
   "cell_type": "markdown",
   "metadata": {},
   "source": [
    "<img  src=\"20151203111709.gif\"/>"
   ]
  },
  {
   "cell_type": "markdown",
   "metadata": {
    "slideshow": {
     "slide_type": "subslide"
    }
   },
   "source": [
    "## 參考答案"
   ]
  },
  {
   "cell_type": "code",
   "execution_count": 114,
   "metadata": {
    "collapsed": false,
    "slideshow": {
     "slide_type": "fragment"
    }
   },
   "outputs": [],
   "source": [
    "macAirPrice = pd.Series([31900, 7488, 112800, 999, 1549], index=['台灣', '香港', '日本', '美國', '澳洲'])"
   ]
  },
  {
   "cell_type": "code",
   "execution_count": 115,
   "metadata": {
    "collapsed": true
   },
   "outputs": [],
   "source": [
    "exchangeRate = pd.Series([32.45500, 4.08000, 23.28000, 0.25970, 1], index=['美國', '香港', '澳洲', '日本', '台灣'])"
   ]
  },
  {
   "cell_type": "code",
   "execution_count": 116,
   "metadata": {
    "collapsed": false,
    "slideshow": {
     "slide_type": "fragment"
    }
   },
   "outputs": [],
   "source": [
    "macAirPriceInTWD = macAirPrice * exchangeRate"
   ]
  },
  {
   "cell_type": "code",
   "execution_count": 117,
   "metadata": {
    "collapsed": true,
    "slideshow": {
     "slide_type": "fragment"
    }
   },
   "outputs": [],
   "source": [
    "macAirPriceInTWD['日本'] *= 1.08"
   ]
  },
  {
   "cell_type": "code",
   "execution_count": 119,
   "metadata": {
    "collapsed": false
   },
   "outputs": [
    {
     "data": {
      "text/plain": [
       "台灣    31900.0000\n",
       "日本    31637.6928\n",
       "澳洲    36060.7200\n",
       "美國    32422.5450\n",
       "香港    30551.0400\n",
       "dtype: float64"
      ]
     },
     "execution_count": 119,
     "metadata": {},
     "output_type": "execute_result"
    }
   ],
   "source": [
    "macAirPriceInTWD"
   ]
  },
  {
   "cell_type": "markdown",
   "metadata": {
    "collapsed": true,
    "run_control": {
     "marked": false
    },
    "slideshow": {
     "slide_type": "slide"
    }
   },
   "source": [
    "# Dataframe\n",
    "* 像是表格一樣\n",
    "* 由多個Series組成"
   ]
  },
  {
   "cell_type": "markdown",
   "metadata": {
    "slideshow": {
     "slide_type": "notes"
    }
   },
   "source": [
    "Series to Dataframe\n",
    "select\n",
    "filter\n",
    "sort\n",
    "groupby\n",
    "sum, mean, balabala\n",
    "sort"
   ]
  },
  {
   "cell_type": "markdown",
   "metadata": {
    "collapsed": true,
    "slideshow": {
     "slide_type": "slide"
    }
   },
   "source": [
    "# 如何建立Dataframe\n",
    "## From Series to Dataframe"
   ]
  },
  {
   "cell_type": "markdown",
   "metadata": {
    "collapsed": false,
    "slideshow": {
     "slide_type": "-"
    }
   },
   "source": [
    "### Big Mac Index\n",
    "* http://www.economist.com/content/big-mac-index"
   ]
  },
  {
   "cell_type": "code",
   "execution_count": 243,
   "metadata": {
    "collapsed": false
   },
   "outputs": [],
   "source": [
    "macIndex = pd.DataFrame({\n",
    "        '原始價格': macAirPrice,\n",
    "        '外幣：台幣': exchangeRate,\n",
    "        '台幣：外幣': 1 / exchangeRate,\n",
    "        '實際價格': macAirPriceInTWD # macAirPrice * exchangeRate\n",
    "    })"
   ]
  },
  {
   "cell_type": "code",
   "execution_count": 244,
   "metadata": {
    "collapsed": false
   },
   "outputs": [
    {
     "data": {
      "text/html": [
       "<div>\n",
       "<table border=\"1\" class=\"dataframe\">\n",
       "  <thead>\n",
       "    <tr style=\"text-align: right;\">\n",
       "      <th></th>\n",
       "      <th>原始價格</th>\n",
       "      <th>台幣：外幣</th>\n",
       "      <th>外幣：台幣</th>\n",
       "      <th>實際價格</th>\n",
       "    </tr>\n",
       "  </thead>\n",
       "  <tbody>\n",
       "    <tr>\n",
       "      <th>台灣</th>\n",
       "      <td>31900</td>\n",
       "      <td>1.000000</td>\n",
       "      <td>1.0000</td>\n",
       "      <td>31900.0000</td>\n",
       "    </tr>\n",
       "    <tr>\n",
       "      <th>日本</th>\n",
       "      <td>112800</td>\n",
       "      <td>3.850597</td>\n",
       "      <td>0.2597</td>\n",
       "      <td>31637.6928</td>\n",
       "    </tr>\n",
       "    <tr>\n",
       "      <th>澳洲</th>\n",
       "      <td>1549</td>\n",
       "      <td>0.042955</td>\n",
       "      <td>23.2800</td>\n",
       "      <td>36060.7200</td>\n",
       "    </tr>\n",
       "    <tr>\n",
       "      <th>美國</th>\n",
       "      <td>999</td>\n",
       "      <td>0.030812</td>\n",
       "      <td>32.4550</td>\n",
       "      <td>32422.5450</td>\n",
       "    </tr>\n",
       "    <tr>\n",
       "      <th>香港</th>\n",
       "      <td>7488</td>\n",
       "      <td>0.245098</td>\n",
       "      <td>4.0800</td>\n",
       "      <td>30551.0400</td>\n",
       "    </tr>\n",
       "  </tbody>\n",
       "</table>\n",
       "</div>"
      ],
      "text/plain": [
       "      原始價格     台幣：外幣    外幣：台幣        實際價格\n",
       "台灣   31900  1.000000   1.0000  31900.0000\n",
       "日本  112800  3.850597   0.2597  31637.6928\n",
       "澳洲    1549  0.042955  23.2800  36060.7200\n",
       "美國     999  0.030812  32.4550  32422.5450\n",
       "香港    7488  0.245098   4.0800  30551.0400"
      ]
     },
     "execution_count": 244,
     "metadata": {},
     "output_type": "execute_result"
    }
   ],
   "source": [
    "macIndex"
   ]
  },
  {
   "cell_type": "markdown",
   "metadata": {
    "collapsed": false,
    "slideshow": {
     "slide_type": "subslide"
    }
   },
   "source": [
    "## From CSV to Dataframe\n",
    "* 大絕招"
   ]
  },
  {
   "cell_type": "code",
   "execution_count": 296,
   "metadata": {
    "collapsed": true
   },
   "outputs": [],
   "source": [
    "airPollution = pd.read_csv('http://opendata.epa.gov.tw/ws/Data/AQX/?format=csv&ndctype=CSV&ndcnid=6074', encoding=\"utf-8-sig\")"
   ]
  },
  {
   "cell_type": "code",
   "execution_count": 223,
   "metadata": {
    "collapsed": false
   },
   "outputs": [
    {
     "data": {
      "text/html": [
       "<div>\n",
       "<table border=\"1\" class=\"dataframe\">\n",
       "  <thead>\n",
       "    <tr style=\"text-align: right;\">\n",
       "      <th></th>\n",
       "      <th>SiteName</th>\n",
       "      <th>County</th>\n",
       "      <th>PSI</th>\n",
       "      <th>MajorPollutant</th>\n",
       "      <th>Status</th>\n",
       "      <th>SO2</th>\n",
       "      <th>CO</th>\n",
       "      <th>O3</th>\n",
       "      <th>PM10</th>\n",
       "      <th>PM2.5</th>\n",
       "      <th>NO2</th>\n",
       "      <th>WindSpeed</th>\n",
       "      <th>WindDirec</th>\n",
       "      <th>FPMI</th>\n",
       "      <th>NOx</th>\n",
       "      <th>NO</th>\n",
       "      <th>PublishTime</th>\n",
       "    </tr>\n",
       "  </thead>\n",
       "  <tbody>\n",
       "    <tr>\n",
       "      <th>0</th>\n",
       "      <td>麥寮</td>\n",
       "      <td>雲林縣</td>\n",
       "      <td>64</td>\n",
       "      <td>懸浮微粒</td>\n",
       "      <td>普通</td>\n",
       "      <td>1.6</td>\n",
       "      <td>0.19</td>\n",
       "      <td>24.0</td>\n",
       "      <td>84</td>\n",
       "      <td>25</td>\n",
       "      <td>6.0</td>\n",
       "      <td>1.8</td>\n",
       "      <td>58</td>\n",
       "      <td>3</td>\n",
       "      <td>8.40</td>\n",
       "      <td>2.37</td>\n",
       "      <td>2015-12-21 01:00</td>\n",
       "    </tr>\n",
       "    <tr>\n",
       "      <th>1</th>\n",
       "      <td>關山</td>\n",
       "      <td>臺東縣</td>\n",
       "      <td>18</td>\n",
       "      <td>NaN</td>\n",
       "      <td>良好</td>\n",
       "      <td>1.0</td>\n",
       "      <td>NaN</td>\n",
       "      <td>9.4</td>\n",
       "      <td>16</td>\n",
       "      <td>12</td>\n",
       "      <td>4.6</td>\n",
       "      <td>0.5</td>\n",
       "      <td>318</td>\n",
       "      <td>1</td>\n",
       "      <td>6.12</td>\n",
       "      <td>1.48</td>\n",
       "      <td>2015-12-21 01:00</td>\n",
       "    </tr>\n",
       "    <tr>\n",
       "      <th>2</th>\n",
       "      <td>馬公</td>\n",
       "      <td>澎湖縣</td>\n",
       "      <td>35</td>\n",
       "      <td>NaN</td>\n",
       "      <td>良好</td>\n",
       "      <td>1.1</td>\n",
       "      <td>0.18</td>\n",
       "      <td>35.0</td>\n",
       "      <td>34</td>\n",
       "      <td>23</td>\n",
       "      <td>3.6</td>\n",
       "      <td>2.0</td>\n",
       "      <td>68</td>\n",
       "      <td>2</td>\n",
       "      <td>4.26</td>\n",
       "      <td>0.71</td>\n",
       "      <td>2015-12-21 01:00</td>\n",
       "    </tr>\n",
       "    <tr>\n",
       "      <th>3</th>\n",
       "      <td>金門</td>\n",
       "      <td>金門縣</td>\n",
       "      <td>64</td>\n",
       "      <td>懸浮微粒</td>\n",
       "      <td>普通</td>\n",
       "      <td>4.6</td>\n",
       "      <td>0.38</td>\n",
       "      <td>9.8</td>\n",
       "      <td>79</td>\n",
       "      <td>40</td>\n",
       "      <td>17.0</td>\n",
       "      <td>0.7</td>\n",
       "      <td>109</td>\n",
       "      <td>3</td>\n",
       "      <td>18.74</td>\n",
       "      <td>1.38</td>\n",
       "      <td>2015-12-21 01:00</td>\n",
       "    </tr>\n",
       "    <tr>\n",
       "      <th>4</th>\n",
       "      <td>馬祖</td>\n",
       "      <td>連江縣</td>\n",
       "      <td>0</td>\n",
       "      <td>NaN</td>\n",
       "      <td>NaN</td>\n",
       "      <td>1.4</td>\n",
       "      <td>0.22</td>\n",
       "      <td>22.0</td>\n",
       "      <td>NaN</td>\n",
       "      <td>NaN</td>\n",
       "      <td>7.0</td>\n",
       "      <td>0.5</td>\n",
       "      <td>15</td>\n",
       "      <td>NaN</td>\n",
       "      <td>7.30</td>\n",
       "      <td>0.33</td>\n",
       "      <td>2015-12-21 01:00</td>\n",
       "    </tr>\n",
       "  </tbody>\n",
       "</table>\n",
       "</div>"
      ],
      "text/plain": [
       "  SiteName County  PSI MajorPollutant Status  SO2    CO    O3  PM10  PM2.5  \\\n",
       "0       麥寮    雲林縣   64           懸浮微粒     普通  1.6  0.19  24.0    84     25   \n",
       "1       關山    臺東縣   18            NaN     良好  1.0   NaN   9.4    16     12   \n",
       "2       馬公    澎湖縣   35            NaN     良好  1.1  0.18  35.0    34     23   \n",
       "3       金門    金門縣   64           懸浮微粒     普通  4.6  0.38   9.8    79     40   \n",
       "4       馬祖    連江縣    0            NaN    NaN  1.4  0.22  22.0   NaN    NaN   \n",
       "\n",
       "    NO2  WindSpeed  WindDirec  FPMI    NOx    NO       PublishTime  \n",
       "0   6.0        1.8         58     3   8.40  2.37  2015-12-21 01:00  \n",
       "1   4.6        0.5        318     1   6.12  1.48  2015-12-21 01:00  \n",
       "2   3.6        2.0         68     2   4.26  0.71  2015-12-21 01:00  \n",
       "3  17.0        0.7        109     3  18.74  1.38  2015-12-21 01:00  \n",
       "4   7.0        0.5         15   NaN   7.30  0.33  2015-12-21 01:00  "
      ]
     },
     "execution_count": 223,
     "metadata": {},
     "output_type": "execute_result"
    }
   ],
   "source": [
    "airPollution.head()"
   ]
  },
  {
   "cell_type": "code",
   "execution_count": 319,
   "metadata": {
    "collapsed": false,
    "slideshow": {
     "slide_type": "subslide"
    }
   },
   "outputs": [
    {
     "data": {
      "text/plain": [
       "SiteName           object\n",
       "County             object\n",
       "PSI                 int64\n",
       "MajorPollutant     object\n",
       "Status             object\n",
       "SO2               float64\n",
       "CO                float64\n",
       "O3                float64\n",
       "PM10              float64\n",
       "PM2.5             float64\n",
       "NO2               float64\n",
       "WindSpeed         float64\n",
       "WindDirec         float64\n",
       "FPMI              float64\n",
       "NOx               float64\n",
       "NO                float64\n",
       "PublishTime        object\n",
       "dtype: object"
      ]
     },
     "execution_count": 319,
     "metadata": {},
     "output_type": "execute_result"
    }
   ],
   "source": [
    "airPollution.dtypes"
   ]
  },
  {
   "cell_type": "code",
   "execution_count": 320,
   "metadata": {
    "collapsed": false,
    "slideshow": {
     "slide_type": "subslide"
    }
   },
   "outputs": [
    {
     "data": {
      "text/html": [
       "\n",
       "        <iframe\n",
       "            width=\"900\"\n",
       "            height=\"500\"\n",
       "            src=\"/notebooks/python-course/playground.ipynb\"\n",
       "            frameborder=\"0\"\n",
       "            allowfullscreen\n",
       "        ></iframe>\n",
       "        "
      ],
      "text/plain": [
       "<IPython.lib.display.IFrame at 0x7f7bed2ac0b8>"
      ]
     },
     "execution_count": 320,
     "metadata": {},
     "output_type": "execute_result"
    }
   ],
   "source": [
    "# Import the IPython display module\n",
    "from IPython.display import IFrame\n",
    "IFrame('/notebooks/python-course/playground.ipynb', width=900, height=500)"
   ]
  },
  {
   "cell_type": "markdown",
   "metadata": {
    "slideshow": {
     "slide_type": "notes"
    }
   },
   "source": [
    "* http://data.tainan.gov.tw/dataset/3ad9da64-0c29-4299-b769-320b57a09be8/resource/cdbdbd7f-e5ba-4cad-9dac-f0bd441e58bd/download/0930.xls\n",
    "* 讀資料\n",
    "* 身高體重"
   ]
  },
  {
   "cell_type": "markdown",
   "metadata": {
    "slideshow": {
     "slide_type": "slide"
    }
   },
   "source": [
    "# Dataframe的操作\n",
    "* 針對column（欄位）的操作\n",
    "* 針對row（列）的操作"
   ]
  },
  {
   "cell_type": "markdown",
   "metadata": {
    "slideshow": {
     "slide_type": "subslide"
    }
   },
   "source": [
    "## 針對column（欄位）的操作"
   ]
  },
  {
   "cell_type": "code",
   "execution_count": 245,
   "metadata": {
    "collapsed": false
   },
   "outputs": [
    {
     "data": {
      "text/html": [
       "<div>\n",
       "<table border=\"1\" class=\"dataframe\">\n",
       "  <thead>\n",
       "    <tr style=\"text-align: right;\">\n",
       "      <th></th>\n",
       "      <th>原始價格</th>\n",
       "      <th>台幣：外幣</th>\n",
       "      <th>外幣：台幣</th>\n",
       "      <th>實際價格</th>\n",
       "    </tr>\n",
       "  </thead>\n",
       "  <tbody>\n",
       "    <tr>\n",
       "      <th>台灣</th>\n",
       "      <td>31900</td>\n",
       "      <td>1.000000</td>\n",
       "      <td>1.0000</td>\n",
       "      <td>31900.0000</td>\n",
       "    </tr>\n",
       "    <tr>\n",
       "      <th>日本</th>\n",
       "      <td>112800</td>\n",
       "      <td>3.850597</td>\n",
       "      <td>0.2597</td>\n",
       "      <td>31637.6928</td>\n",
       "    </tr>\n",
       "    <tr>\n",
       "      <th>澳洲</th>\n",
       "      <td>1549</td>\n",
       "      <td>0.042955</td>\n",
       "      <td>23.2800</td>\n",
       "      <td>36060.7200</td>\n",
       "    </tr>\n",
       "    <tr>\n",
       "      <th>美國</th>\n",
       "      <td>999</td>\n",
       "      <td>0.030812</td>\n",
       "      <td>32.4550</td>\n",
       "      <td>32422.5450</td>\n",
       "    </tr>\n",
       "    <tr>\n",
       "      <th>香港</th>\n",
       "      <td>7488</td>\n",
       "      <td>0.245098</td>\n",
       "      <td>4.0800</td>\n",
       "      <td>30551.0400</td>\n",
       "    </tr>\n",
       "  </tbody>\n",
       "</table>\n",
       "</div>"
      ],
      "text/plain": [
       "      原始價格     台幣：外幣    外幣：台幣        實際價格\n",
       "台灣   31900  1.000000   1.0000  31900.0000\n",
       "日本  112800  3.850597   0.2597  31637.6928\n",
       "澳洲    1549  0.042955  23.2800  36060.7200\n",
       "美國     999  0.030812  32.4550  32422.5450\n",
       "香港    7488  0.245098   4.0800  30551.0400"
      ]
     },
     "execution_count": 245,
     "metadata": {},
     "output_type": "execute_result"
    }
   ],
   "source": [
    "macIndex"
   ]
  },
  {
   "cell_type": "code",
   "execution_count": 314,
   "metadata": {
    "collapsed": false
   },
   "outputs": [
    {
     "data": {
      "text/plain": [
       "台灣    1.000000\n",
       "日本    3.850597\n",
       "澳洲    0.042955\n",
       "美國    0.030812\n",
       "香港    0.245098\n",
       "Name: 台幣：外幣, dtype: float64"
      ]
     },
     "execution_count": 314,
     "metadata": {},
     "output_type": "execute_result"
    }
   ],
   "source": [
    "macIndex['台幣：外幣']"
   ]
  },
  {
   "cell_type": "code",
   "execution_count": 316,
   "metadata": {
    "collapsed": false
   },
   "outputs": [
    {
     "data": {
      "text/plain": [
       "美國    0.030812\n",
       "澳洲    0.042955\n",
       "香港    0.245098\n",
       "台灣    1.000000\n",
       "日本    3.850597\n",
       "Name: 台幣：外幣, dtype: float64"
      ]
     },
     "execution_count": 316,
     "metadata": {},
     "output_type": "execute_result"
    }
   ],
   "source": [
    "macIndex['台幣：外幣'].sort_values()"
   ]
  },
  {
   "cell_type": "code",
   "execution_count": 317,
   "metadata": {
    "collapsed": false,
    "slideshow": {
     "slide_type": "subslide"
    }
   },
   "outputs": [
    {
     "data": {
      "text/html": [
       "<div>\n",
       "<table border=\"1\" class=\"dataframe\">\n",
       "  <thead>\n",
       "    <tr style=\"text-align: right;\">\n",
       "      <th></th>\n",
       "      <th>台幣：外幣</th>\n",
       "      <th>原始價格</th>\n",
       "    </tr>\n",
       "  </thead>\n",
       "  <tbody>\n",
       "    <tr>\n",
       "      <th>台灣</th>\n",
       "      <td>1.000000</td>\n",
       "      <td>31900</td>\n",
       "    </tr>\n",
       "    <tr>\n",
       "      <th>日本</th>\n",
       "      <td>3.850597</td>\n",
       "      <td>112800</td>\n",
       "    </tr>\n",
       "    <tr>\n",
       "      <th>澳洲</th>\n",
       "      <td>0.042955</td>\n",
       "      <td>1549</td>\n",
       "    </tr>\n",
       "    <tr>\n",
       "      <th>美國</th>\n",
       "      <td>0.030812</td>\n",
       "      <td>999</td>\n",
       "    </tr>\n",
       "    <tr>\n",
       "      <th>香港</th>\n",
       "      <td>0.245098</td>\n",
       "      <td>7488</td>\n",
       "    </tr>\n",
       "  </tbody>\n",
       "</table>\n",
       "</div>"
      ],
      "text/plain": [
       "       台幣：外幣    原始價格\n",
       "台灣  1.000000   31900\n",
       "日本  3.850597  112800\n",
       "澳洲  0.042955    1549\n",
       "美國  0.030812     999\n",
       "香港  0.245098    7488"
      ]
     },
     "execution_count": 317,
     "metadata": {},
     "output_type": "execute_result"
    }
   ],
   "source": [
    "macIndex[['台幣：外幣', '原始價格']]"
   ]
  },
  {
   "cell_type": "code",
   "execution_count": 264,
   "metadata": {
    "collapsed": false,
    "slideshow": {
     "slide_type": "-"
    }
   },
   "outputs": [
    {
     "name": "stdout",
     "output_type": "stream",
     "text": [
      "Populating the interactive namespace from numpy and matplotlib\n"
     ]
    },
    {
     "data": {
      "text/plain": [
       "<matplotlib.axes._subplots.AxesSubplot at 0x7f7bed3c4780>"
      ]
     },
     "execution_count": 264,
     "metadata": {},
     "output_type": "execute_result"
    },
    {
     "data": {
      "image/png": "[encoded data removed]",
      "text/plain": [
       "<matplotlib.figure.Figure at 0x7f7bed3ba668>"
      ]
     },
     "metadata": {},
     "output_type": "display_data"
    }
   ],
   "source": [
    "%pylab inline\n",
    "macIndex.plot(x = '台幣：外幣', y='原始價格', kind='scatter')"
   ]
  },
  {
   "cell_type": "markdown",
   "metadata": {
    "slideshow": {
     "slide_type": "subslide"
    }
   },
   "source": [
    "### 新增Column（欄位）"
   ]
  },
  {
   "cell_type": "code",
   "execution_count": 249,
   "metadata": {
    "collapsed": false
   },
   "outputs": [],
   "source": [
    "macIndex['人均GDP'] = pd.Series({\n",
    "    '美國': 54596.65,\n",
    "    '日本': 37389.79,\n",
    "    '台灣': 45853.74,\n",
    "    '香港': 54722.12,\n",
    "    '澳洲': 46433.30\n",
    "})"
   ]
  },
  {
   "cell_type": "code",
   "execution_count": 250,
   "metadata": {
    "collapsed": false
   },
   "outputs": [
    {
     "data": {
      "text/html": [
       "<div>\n",
       "<table border=\"1\" class=\"dataframe\">\n",
       "  <thead>\n",
       "    <tr style=\"text-align: right;\">\n",
       "      <th></th>\n",
       "      <th>原始價格</th>\n",
       "      <th>台幣：外幣</th>\n",
       "      <th>外幣：台幣</th>\n",
       "      <th>實際價格</th>\n",
       "      <th>人均GDP</th>\n",
       "    </tr>\n",
       "  </thead>\n",
       "  <tbody>\n",
       "    <tr>\n",
       "      <th>台灣</th>\n",
       "      <td>31900</td>\n",
       "      <td>1.000000</td>\n",
       "      <td>1.0000</td>\n",
       "      <td>31900.0000</td>\n",
       "      <td>45853.74</td>\n",
       "    </tr>\n",
       "    <tr>\n",
       "      <th>日本</th>\n",
       "      <td>112800</td>\n",
       "      <td>3.850597</td>\n",
       "      <td>0.2597</td>\n",
       "      <td>31637.6928</td>\n",
       "      <td>37389.79</td>\n",
       "    </tr>\n",
       "    <tr>\n",
       "      <th>澳洲</th>\n",
       "      <td>1549</td>\n",
       "      <td>0.042955</td>\n",
       "      <td>23.2800</td>\n",
       "      <td>36060.7200</td>\n",
       "      <td>46433.30</td>\n",
       "    </tr>\n",
       "    <tr>\n",
       "      <th>美國</th>\n",
       "      <td>999</td>\n",
       "      <td>0.030812</td>\n",
       "      <td>32.4550</td>\n",
       "      <td>32422.5450</td>\n",
       "      <td>54596.65</td>\n",
       "    </tr>\n",
       "    <tr>\n",
       "      <th>香港</th>\n",
       "      <td>7488</td>\n",
       "      <td>0.245098</td>\n",
       "      <td>4.0800</td>\n",
       "      <td>30551.0400</td>\n",
       "      <td>54722.12</td>\n",
       "    </tr>\n",
       "  </tbody>\n",
       "</table>\n",
       "</div>"
      ],
      "text/plain": [
       "      原始價格     台幣：外幣    外幣：台幣        實際價格     人均GDP\n",
       "台灣   31900  1.000000   1.0000  31900.0000  45853.74\n",
       "日本  112800  3.850597   0.2597  31637.6928  37389.79\n",
       "澳洲    1549  0.042955  23.2800  36060.7200  46433.30\n",
       "美國     999  0.030812  32.4550  32422.5450  54596.65\n",
       "香港    7488  0.245098   4.0800  30551.0400  54722.12"
      ]
     },
     "execution_count": 250,
     "metadata": {},
     "output_type": "execute_result"
    }
   ],
   "source": [
    "macIndex"
   ]
  },
  {
   "cell_type": "code",
   "execution_count": 251,
   "metadata": {
    "collapsed": false,
    "slideshow": {
     "slide_type": "subslide"
    }
   },
   "outputs": [
    {
     "data": {
      "text/plain": [
       "<matplotlib.axes._subplots.AxesSubplot at 0x7f7bed474080>"
      ]
     },
     "execution_count": 251,
     "metadata": {},
     "output_type": "execute_result"
    },
    {
     "data": {
      "image/png": "[encoded data removed]",
      "text/plain": [
       "<matplotlib.figure.Figure at 0x7f7bed3dcd30>"
      ]
     },
     "metadata": {},
     "output_type": "display_data"
    }
   ],
   "source": [
    "macIndex.plot(x = '人均GDP', y='實際價格', kind='scatter')"
   ]
  },
  {
   "cell_type": "markdown",
   "metadata": {
    "slideshow": {
     "slide_type": "subslide"
    }
   },
   "source": [
    "## 針對row（列）的操作"
   ]
  },
  {
   "cell_type": "code",
   "execution_count": 252,
   "metadata": {
    "collapsed": false
   },
   "outputs": [
    {
     "data": {
      "text/html": [
       "<div>\n",
       "<table border=\"1\" class=\"dataframe\">\n",
       "  <thead>\n",
       "    <tr style=\"text-align: right;\">\n",
       "      <th></th>\n",
       "      <th>原始價格</th>\n",
       "      <th>台幣：外幣</th>\n",
       "      <th>外幣：台幣</th>\n",
       "      <th>實際價格</th>\n",
       "      <th>人均GDP</th>\n",
       "    </tr>\n",
       "  </thead>\n",
       "  <tbody>\n",
       "    <tr>\n",
       "      <th>台灣</th>\n",
       "      <td>31900</td>\n",
       "      <td>1.000000</td>\n",
       "      <td>1.0000</td>\n",
       "      <td>31900.0000</td>\n",
       "      <td>45853.74</td>\n",
       "    </tr>\n",
       "    <tr>\n",
       "      <th>日本</th>\n",
       "      <td>112800</td>\n",
       "      <td>3.850597</td>\n",
       "      <td>0.2597</td>\n",
       "      <td>31637.6928</td>\n",
       "      <td>37389.79</td>\n",
       "    </tr>\n",
       "  </tbody>\n",
       "</table>\n",
       "</div>"
      ],
      "text/plain": [
       "      原始價格     台幣：外幣   外幣：台幣        實際價格     人均GDP\n",
       "台灣   31900  1.000000  1.0000  31900.0000  45853.74\n",
       "日本  112800  3.850597  0.2597  31637.6928  37389.79"
      ]
     },
     "execution_count": 252,
     "metadata": {},
     "output_type": "execute_result"
    }
   ],
   "source": [
    "macIndex[0:2]"
   ]
  },
  {
   "cell_type": "code",
   "execution_count": 253,
   "metadata": {
    "collapsed": false
   },
   "outputs": [
    {
     "data": {
      "text/html": [
       "<div>\n",
       "<table border=\"1\" class=\"dataframe\">\n",
       "  <thead>\n",
       "    <tr style=\"text-align: right;\">\n",
       "      <th></th>\n",
       "      <th>原始價格</th>\n",
       "      <th>台幣：外幣</th>\n",
       "      <th>外幣：台幣</th>\n",
       "      <th>實際價格</th>\n",
       "      <th>人均GDP</th>\n",
       "    </tr>\n",
       "  </thead>\n",
       "  <tbody>\n",
       "    <tr>\n",
       "      <th>台灣</th>\n",
       "      <td>31900</td>\n",
       "      <td>1.000000</td>\n",
       "      <td>1.0000</td>\n",
       "      <td>31900.0000</td>\n",
       "      <td>45853.74</td>\n",
       "    </tr>\n",
       "    <tr>\n",
       "      <th>日本</th>\n",
       "      <td>112800</td>\n",
       "      <td>3.850597</td>\n",
       "      <td>0.2597</td>\n",
       "      <td>31637.6928</td>\n",
       "      <td>37389.79</td>\n",
       "    </tr>\n",
       "  </tbody>\n",
       "</table>\n",
       "</div>"
      ],
      "text/plain": [
       "      原始價格     台幣：外幣   外幣：台幣        實際價格     人均GDP\n",
       "台灣   31900  1.000000  1.0000  31900.0000  45853.74\n",
       "日本  112800  3.850597  0.2597  31637.6928  37389.79"
      ]
     },
     "execution_count": 253,
     "metadata": {},
     "output_type": "execute_result"
    }
   ],
   "source": [
    "macIndex.ix['台灣':'日本']"
   ]
  },
  {
   "cell_type": "code",
   "execution_count": 254,
   "metadata": {
    "collapsed": false
   },
   "outputs": [
    {
     "data": {
      "text/html": [
       "<div>\n",
       "<table border=\"1\" class=\"dataframe\">\n",
       "  <thead>\n",
       "    <tr style=\"text-align: right;\">\n",
       "      <th></th>\n",
       "      <th>原始價格</th>\n",
       "      <th>台幣：外幣</th>\n",
       "      <th>外幣：台幣</th>\n",
       "      <th>實際價格</th>\n",
       "      <th>人均GDP</th>\n",
       "    </tr>\n",
       "  </thead>\n",
       "  <tbody>\n",
       "    <tr>\n",
       "      <th>台灣</th>\n",
       "      <td>31900</td>\n",
       "      <td>1.000000</td>\n",
       "      <td>1.0000</td>\n",
       "      <td>31900.0000</td>\n",
       "      <td>45853.74</td>\n",
       "    </tr>\n",
       "    <tr>\n",
       "      <th>日本</th>\n",
       "      <td>112800</td>\n",
       "      <td>3.850597</td>\n",
       "      <td>0.2597</td>\n",
       "      <td>31637.6928</td>\n",
       "      <td>37389.79</td>\n",
       "    </tr>\n",
       "  </tbody>\n",
       "</table>\n",
       "</div>"
      ],
      "text/plain": [
       "      原始價格     台幣：外幣   外幣：台幣        實際價格     人均GDP\n",
       "台灣   31900  1.000000  1.0000  31900.0000  45853.74\n",
       "日本  112800  3.850597  0.2597  31637.6928  37389.79"
      ]
     },
     "execution_count": 254,
     "metadata": {},
     "output_type": "execute_result"
    }
   ],
   "source": [
    "macIndex.ix[['台灣', '日本']]"
   ]
  },
  {
   "cell_type": "markdown",
   "metadata": {
    "slideshow": {
     "slide_type": "notes"
    }
   },
   "source": [
    "埋伏筆"
   ]
  },
  {
   "cell_type": "markdown",
   "metadata": {
    "slideshow": {
     "slide_type": "slide"
    }
   },
   "source": [
    "# 補值\n",
    "* 補充資料 http://pandas.pydata.org/pandas-docs/stable/missing_data.html"
   ]
  },
  {
   "cell_type": "code",
   "execution_count": 322,
   "metadata": {
    "collapsed": false
   },
   "outputs": [
    {
     "data": {
      "text/html": [
       "\n",
       "        <iframe\n",
       "            width=\"900\"\n",
       "            height=\"500\"\n",
       "            src=\"/notebooks/python-course/playground.ipynb\"\n",
       "            frameborder=\"0\"\n",
       "            allowfullscreen\n",
       "        ></iframe>\n",
       "        "
      ],
      "text/plain": [
       "<IPython.lib.display.IFrame at 0x7f7bed2ac198>"
      ]
     },
     "execution_count": 322,
     "metadata": {},
     "output_type": "execute_result"
    }
   ],
   "source": [
    "# Import the IPython display module\n",
    "from IPython.display import IFrame\n",
    "IFrame('/notebooks/python-course/playground.ipynb', width=900, height=500)"
   ]
  },
  {
   "cell_type": "markdown",
   "metadata": {
    "slideshow": {
     "slide_type": "slide"
    }
   },
   "source": [
    "# Dataframe實際演練1\n",
    "* 將任一csv檔讀到Dataframe中\n",
    "* 對colomn及row做一些操作\n",
    "* 試著建立新的column"
   ]
  },
  {
   "cell_type": "markdown",
   "metadata": {
    "slideshow": {
     "slide_type": "slide"
    }
   },
   "source": [
    "# Filter\n",
    "* 先看看資料長什麼樣子"
   ]
  },
  {
   "cell_type": "code",
   "execution_count": 307,
   "metadata": {
    "collapsed": false,
    "slideshow": {
     "slide_type": "-"
    }
   },
   "outputs": [
    {
     "data": {
      "text/html": [
       "<div>\n",
       "<table border=\"1\" class=\"dataframe\">\n",
       "  <thead>\n",
       "    <tr style=\"text-align: right;\">\n",
       "      <th></th>\n",
       "      <th>SiteName</th>\n",
       "      <th>County</th>\n",
       "      <th>PSI</th>\n",
       "      <th>MajorPollutant</th>\n",
       "      <th>Status</th>\n",
       "      <th>SO2</th>\n",
       "      <th>CO</th>\n",
       "      <th>O3</th>\n",
       "      <th>PM10</th>\n",
       "      <th>PM2.5</th>\n",
       "      <th>NO2</th>\n",
       "      <th>WindSpeed</th>\n",
       "      <th>WindDirec</th>\n",
       "      <th>FPMI</th>\n",
       "      <th>NOx</th>\n",
       "      <th>NO</th>\n",
       "      <th>PublishTime</th>\n",
       "    </tr>\n",
       "  </thead>\n",
       "  <tbody>\n",
       "    <tr>\n",
       "      <th>0</th>\n",
       "      <td>麥寮</td>\n",
       "      <td>雲林縣</td>\n",
       "      <td>64</td>\n",
       "      <td>懸浮微粒</td>\n",
       "      <td>普通</td>\n",
       "      <td>1.6</td>\n",
       "      <td>0.19</td>\n",
       "      <td>24.0</td>\n",
       "      <td>84</td>\n",
       "      <td>25</td>\n",
       "      <td>6.0</td>\n",
       "      <td>1.8</td>\n",
       "      <td>58</td>\n",
       "      <td>3</td>\n",
       "      <td>8.40</td>\n",
       "      <td>2.37</td>\n",
       "      <td>2015-12-21 01:00</td>\n",
       "    </tr>\n",
       "    <tr>\n",
       "      <th>1</th>\n",
       "      <td>關山</td>\n",
       "      <td>臺東縣</td>\n",
       "      <td>18</td>\n",
       "      <td>NaN</td>\n",
       "      <td>良好</td>\n",
       "      <td>1.0</td>\n",
       "      <td>NaN</td>\n",
       "      <td>9.4</td>\n",
       "      <td>16</td>\n",
       "      <td>12</td>\n",
       "      <td>4.6</td>\n",
       "      <td>0.5</td>\n",
       "      <td>318</td>\n",
       "      <td>1</td>\n",
       "      <td>6.12</td>\n",
       "      <td>1.48</td>\n",
       "      <td>2015-12-21 01:00</td>\n",
       "    </tr>\n",
       "    <tr>\n",
       "      <th>2</th>\n",
       "      <td>馬公</td>\n",
       "      <td>澎湖縣</td>\n",
       "      <td>35</td>\n",
       "      <td>NaN</td>\n",
       "      <td>良好</td>\n",
       "      <td>1.1</td>\n",
       "      <td>0.18</td>\n",
       "      <td>35.0</td>\n",
       "      <td>34</td>\n",
       "      <td>23</td>\n",
       "      <td>3.6</td>\n",
       "      <td>2.0</td>\n",
       "      <td>68</td>\n",
       "      <td>2</td>\n",
       "      <td>4.26</td>\n",
       "      <td>0.71</td>\n",
       "      <td>2015-12-21 01:00</td>\n",
       "    </tr>\n",
       "    <tr>\n",
       "      <th>3</th>\n",
       "      <td>金門</td>\n",
       "      <td>金門縣</td>\n",
       "      <td>64</td>\n",
       "      <td>懸浮微粒</td>\n",
       "      <td>普通</td>\n",
       "      <td>4.6</td>\n",
       "      <td>0.38</td>\n",
       "      <td>9.8</td>\n",
       "      <td>79</td>\n",
       "      <td>40</td>\n",
       "      <td>17.0</td>\n",
       "      <td>0.7</td>\n",
       "      <td>109</td>\n",
       "      <td>3</td>\n",
       "      <td>18.74</td>\n",
       "      <td>1.38</td>\n",
       "      <td>2015-12-21 01:00</td>\n",
       "    </tr>\n",
       "    <tr>\n",
       "      <th>4</th>\n",
       "      <td>馬祖</td>\n",
       "      <td>連江縣</td>\n",
       "      <td>0</td>\n",
       "      <td>NaN</td>\n",
       "      <td>NaN</td>\n",
       "      <td>1.4</td>\n",
       "      <td>0.22</td>\n",
       "      <td>22.0</td>\n",
       "      <td>NaN</td>\n",
       "      <td>NaN</td>\n",
       "      <td>7.0</td>\n",
       "      <td>0.5</td>\n",
       "      <td>15</td>\n",
       "      <td>NaN</td>\n",
       "      <td>7.30</td>\n",
       "      <td>0.33</td>\n",
       "      <td>2015-12-21 01:00</td>\n",
       "    </tr>\n",
       "  </tbody>\n",
       "</table>\n",
       "</div>"
      ],
      "text/plain": [
       "  SiteName County  PSI MajorPollutant Status  SO2    CO    O3  PM10  PM2.5  \\\n",
       "0       麥寮    雲林縣   64           懸浮微粒     普通  1.6  0.19  24.0    84     25   \n",
       "1       關山    臺東縣   18            NaN     良好  1.0   NaN   9.4    16     12   \n",
       "2       馬公    澎湖縣   35            NaN     良好  1.1  0.18  35.0    34     23   \n",
       "3       金門    金門縣   64           懸浮微粒     普通  4.6  0.38   9.8    79     40   \n",
       "4       馬祖    連江縣    0            NaN    NaN  1.4  0.22  22.0   NaN    NaN   \n",
       "\n",
       "    NO2  WindSpeed  WindDirec  FPMI    NOx    NO       PublishTime  \n",
       "0   6.0        1.8         58     3   8.40  2.37  2015-12-21 01:00  \n",
       "1   4.6        0.5        318     1   6.12  1.48  2015-12-21 01:00  \n",
       "2   3.6        2.0         68     2   4.26  0.71  2015-12-21 01:00  \n",
       "3  17.0        0.7        109     3  18.74  1.38  2015-12-21 01:00  \n",
       "4   7.0        0.5         15   NaN   7.30  0.33  2015-12-21 01:00  "
      ]
     },
     "execution_count": 307,
     "metadata": {},
     "output_type": "execute_result"
    }
   ],
   "source": [
    "airPollution.head()"
   ]
  },
  {
   "cell_type": "markdown",
   "metadata": {
    "slideshow": {
     "slide_type": "subslide"
    }
   },
   "source": [
    "## 一個條件的Filter"
   ]
  },
  {
   "cell_type": "code",
   "execution_count": 308,
   "metadata": {
    "collapsed": false,
    "slideshow": {
     "slide_type": "-"
    }
   },
   "outputs": [
    {
     "data": {
      "text/html": [
       "<div>\n",
       "<table border=\"1\" class=\"dataframe\">\n",
       "  <thead>\n",
       "    <tr style=\"text-align: right;\">\n",
       "      <th></th>\n",
       "      <th>SiteName</th>\n",
       "      <th>County</th>\n",
       "      <th>PSI</th>\n",
       "      <th>MajorPollutant</th>\n",
       "      <th>Status</th>\n",
       "      <th>SO2</th>\n",
       "      <th>CO</th>\n",
       "      <th>O3</th>\n",
       "      <th>PM10</th>\n",
       "      <th>PM2.5</th>\n",
       "      <th>NO2</th>\n",
       "      <th>WindSpeed</th>\n",
       "      <th>WindDirec</th>\n",
       "      <th>FPMI</th>\n",
       "      <th>NOx</th>\n",
       "      <th>NO</th>\n",
       "      <th>PublishTime</th>\n",
       "    </tr>\n",
       "  </thead>\n",
       "  <tbody>\n",
       "    <tr>\n",
       "      <th>1</th>\n",
       "      <td>關山</td>\n",
       "      <td>臺東縣</td>\n",
       "      <td>18</td>\n",
       "      <td>NaN</td>\n",
       "      <td>良好</td>\n",
       "      <td>1</td>\n",
       "      <td>NaN</td>\n",
       "      <td>9.4</td>\n",
       "      <td>16</td>\n",
       "      <td>12</td>\n",
       "      <td>4.6</td>\n",
       "      <td>0.5</td>\n",
       "      <td>318</td>\n",
       "      <td>1</td>\n",
       "      <td>6.12</td>\n",
       "      <td>1.48</td>\n",
       "      <td>2015-12-21 01:00</td>\n",
       "    </tr>\n",
       "  </tbody>\n",
       "</table>\n",
       "</div>"
      ],
      "text/plain": [
       "  SiteName County  PSI MajorPollutant Status  SO2  CO   O3  PM10  PM2.5  NO2  \\\n",
       "1       關山    臺東縣   18            NaN     良好    1 NaN  9.4    16     12  4.6   \n",
       "\n",
       "   WindSpeed  WindDirec  FPMI   NOx    NO       PublishTime  \n",
       "1        0.5        318     1  6.12  1.48  2015-12-21 01:00  "
      ]
     },
     "execution_count": 308,
     "metadata": {},
     "output_type": "execute_result"
    }
   ],
   "source": [
    "airPollution[airPollution['SiteName'] == '關山']"
   ]
  },
  {
   "cell_type": "markdown",
   "metadata": {
    "slideshow": {
     "slide_type": "notes"
    }
   },
   "source": [
    "# 埋伏筆"
   ]
  },
  {
   "cell_type": "markdown",
   "metadata": {
    "slideshow": {
     "slide_type": "subslide"
    }
   },
   "source": [
    "## 多個條件的Filter"
   ]
  },
  {
   "cell_type": "code",
   "execution_count": 301,
   "metadata": {
    "collapsed": false,
    "slideshow": {
     "slide_type": "-"
    }
   },
   "outputs": [
    {
     "data": {
      "text/html": [
       "<div>\n",
       "<table border=\"1\" class=\"dataframe\">\n",
       "  <thead>\n",
       "    <tr style=\"text-align: right;\">\n",
       "      <th></th>\n",
       "      <th>SiteName</th>\n",
       "      <th>County</th>\n",
       "      <th>PSI</th>\n",
       "      <th>MajorPollutant</th>\n",
       "      <th>Status</th>\n",
       "      <th>SO2</th>\n",
       "      <th>CO</th>\n",
       "      <th>O3</th>\n",
       "      <th>PM10</th>\n",
       "      <th>PM2.5</th>\n",
       "      <th>NO2</th>\n",
       "      <th>WindSpeed</th>\n",
       "      <th>WindDirec</th>\n",
       "      <th>FPMI</th>\n",
       "      <th>NOx</th>\n",
       "      <th>NO</th>\n",
       "      <th>PublishTime</th>\n",
       "    </tr>\n",
       "  </thead>\n",
       "  <tbody>\n",
       "    <tr>\n",
       "      <th>6</th>\n",
       "      <td>復興</td>\n",
       "      <td>高雄市</td>\n",
       "      <td>79</td>\n",
       "      <td>懸浮微粒</td>\n",
       "      <td>普通</td>\n",
       "      <td>3.9</td>\n",
       "      <td>0.81</td>\n",
       "      <td>7.5</td>\n",
       "      <td>110</td>\n",
       "      <td>72</td>\n",
       "      <td>29</td>\n",
       "      <td>1.4</td>\n",
       "      <td>110</td>\n",
       "      <td>9</td>\n",
       "      <td>32.45</td>\n",
       "      <td>3.18</td>\n",
       "      <td>2015-12-21 01:00</td>\n",
       "    </tr>\n",
       "    <tr>\n",
       "      <th>7</th>\n",
       "      <td>永和</td>\n",
       "      <td>新北市</td>\n",
       "      <td>60</td>\n",
       "      <td>懸浮微粒</td>\n",
       "      <td>普通</td>\n",
       "      <td>2.9</td>\n",
       "      <td>1.54</td>\n",
       "      <td>2.1</td>\n",
       "      <td>79</td>\n",
       "      <td>55</td>\n",
       "      <td>42</td>\n",
       "      <td>0.7</td>\n",
       "      <td>240</td>\n",
       "      <td>5</td>\n",
       "      <td>77.05</td>\n",
       "      <td>34.67</td>\n",
       "      <td>2015-12-21 01:00</td>\n",
       "    </tr>\n",
       "    <tr>\n",
       "      <th>8</th>\n",
       "      <td>竹山</td>\n",
       "      <td>南投縣</td>\n",
       "      <td>86</td>\n",
       "      <td>懸浮微粒</td>\n",
       "      <td>普通</td>\n",
       "      <td>3.1</td>\n",
       "      <td>0.68</td>\n",
       "      <td>7.7</td>\n",
       "      <td>122</td>\n",
       "      <td>84</td>\n",
       "      <td>22</td>\n",
       "      <td>0.8</td>\n",
       "      <td>195</td>\n",
       "      <td>10</td>\n",
       "      <td>23.30</td>\n",
       "      <td>1.09</td>\n",
       "      <td>2015-12-21 01:00</td>\n",
       "    </tr>\n",
       "    <tr>\n",
       "      <th>10</th>\n",
       "      <td>三重</td>\n",
       "      <td>新北市</td>\n",
       "      <td>67</td>\n",
       "      <td>懸浮微粒</td>\n",
       "      <td>普通</td>\n",
       "      <td>6.6</td>\n",
       "      <td>2.71</td>\n",
       "      <td>NaN</td>\n",
       "      <td>95</td>\n",
       "      <td>47</td>\n",
       "      <td>51</td>\n",
       "      <td>NaN</td>\n",
       "      <td>NaN</td>\n",
       "      <td>4</td>\n",
       "      <td>167.65</td>\n",
       "      <td>116.61</td>\n",
       "      <td>2015-12-21 01:00</td>\n",
       "    </tr>\n",
       "    <tr>\n",
       "      <th>17</th>\n",
       "      <td>潮州</td>\n",
       "      <td>屏東縣</td>\n",
       "      <td>72</td>\n",
       "      <td>懸浮微粒</td>\n",
       "      <td>普通</td>\n",
       "      <td>1.9</td>\n",
       "      <td>0.58</td>\n",
       "      <td>9.0</td>\n",
       "      <td>116</td>\n",
       "      <td>70</td>\n",
       "      <td>19</td>\n",
       "      <td>0.7</td>\n",
       "      <td>44</td>\n",
       "      <td>6</td>\n",
       "      <td>20.57</td>\n",
       "      <td>1.32</td>\n",
       "      <td>2015-12-21 01:00</td>\n",
       "    </tr>\n",
       "  </tbody>\n",
       "</table>\n",
       "</div>"
      ],
      "text/plain": [
       "   SiteName County  PSI MajorPollutant Status  SO2    CO   O3  PM10  PM2.5  \\\n",
       "6        復興    高雄市   79           懸浮微粒     普通  3.9  0.81  7.5   110     72   \n",
       "7        永和    新北市   60           懸浮微粒     普通  2.9  1.54  2.1    79     55   \n",
       "8        竹山    南投縣   86           懸浮微粒     普通  3.1  0.68  7.7   122     84   \n",
       "10       三重    新北市   67           懸浮微粒     普通  6.6  2.71  NaN    95     47   \n",
       "17       潮州    屏東縣   72           懸浮微粒     普通  1.9  0.58  9.0   116     70   \n",
       "\n",
       "    NO2  WindSpeed  WindDirec  FPMI     NOx      NO       PublishTime  \n",
       "6    29        1.4        110     9   32.45    3.18  2015-12-21 01:00  \n",
       "7    42        0.7        240     5   77.05   34.67  2015-12-21 01:00  \n",
       "8    22        0.8        195    10   23.30    1.09  2015-12-21 01:00  \n",
       "10   51        NaN        NaN     4  167.65  116.61  2015-12-21 01:00  \n",
       "17   19        0.7         44     6   20.57    1.32  2015-12-21 01:00  "
      ]
     },
     "execution_count": 301,
     "metadata": {},
     "output_type": "execute_result"
    }
   ],
   "source": [
    "airPollution[(airPollution['SO2'] > 5) | (airPollution['PM2.5'] > 50)].head()"
   ]
  },
  {
   "cell_type": "code",
   "execution_count": 303,
   "metadata": {
    "collapsed": false,
    "slideshow": {
     "slide_type": "subslide"
    }
   },
   "outputs": [
    {
     "data": {
      "text/html": [
       "\n",
       "        <iframe\n",
       "            width=\"900\"\n",
       "            height=\"500\"\n",
       "            src=\"/notebooks/python-course/playground.ipynb\"\n",
       "            frameborder=\"0\"\n",
       "            allowfullscreen\n",
       "        ></iframe>\n",
       "        "
      ],
      "text/plain": [
       "<IPython.lib.display.IFrame at 0x7f7bed30a668>"
      ]
     },
     "execution_count": 303,
     "metadata": {},
     "output_type": "execute_result"
    }
   ],
   "source": [
    "# Import the IPython display module\n",
    "from IPython.display import IFrame\n",
    "IFrame('/notebooks/python-course/playground.ipynb', width=900, height=500)"
   ]
  },
  {
   "cell_type": "markdown",
   "metadata": {
    "slideshow": {
     "slide_type": "slide"
    }
   },
   "source": [
    "# 建立索引\n",
    "* 先看看資料長什麼樣子"
   ]
  },
  {
   "cell_type": "code",
   "execution_count": 208,
   "metadata": {
    "collapsed": false,
    "slideshow": {
     "slide_type": "-"
    }
   },
   "outputs": [
    {
     "data": {
      "text/html": [
       "<div>\n",
       "<table border=\"1\" class=\"dataframe\">\n",
       "  <thead>\n",
       "    <tr style=\"text-align: right;\">\n",
       "      <th></th>\n",
       "      <th>SiteName</th>\n",
       "      <th>County</th>\n",
       "      <th>PSI</th>\n",
       "      <th>MajorPollutant</th>\n",
       "      <th>Status</th>\n",
       "      <th>SO2</th>\n",
       "      <th>CO</th>\n",
       "      <th>O3</th>\n",
       "      <th>PM10</th>\n",
       "      <th>PM2.5</th>\n",
       "      <th>NO2</th>\n",
       "      <th>WindSpeed</th>\n",
       "      <th>WindDirec</th>\n",
       "      <th>FPMI</th>\n",
       "      <th>NOx</th>\n",
       "      <th>NO</th>\n",
       "      <th>PublishTime</th>\n",
       "    </tr>\n",
       "  </thead>\n",
       "  <tbody>\n",
       "    <tr>\n",
       "      <th>0</th>\n",
       "      <td>麥寮</td>\n",
       "      <td>雲林縣</td>\n",
       "      <td>64</td>\n",
       "      <td>懸浮微粒</td>\n",
       "      <td>普通</td>\n",
       "      <td>1.6</td>\n",
       "      <td>0.19</td>\n",
       "      <td>24.0</td>\n",
       "      <td>84</td>\n",
       "      <td>25</td>\n",
       "      <td>6.0</td>\n",
       "      <td>1.8</td>\n",
       "      <td>58</td>\n",
       "      <td>3</td>\n",
       "      <td>8.40</td>\n",
       "      <td>2.37</td>\n",
       "      <td>2015-12-21 01:00</td>\n",
       "    </tr>\n",
       "    <tr>\n",
       "      <th>1</th>\n",
       "      <td>關山</td>\n",
       "      <td>臺東縣</td>\n",
       "      <td>18</td>\n",
       "      <td>NaN</td>\n",
       "      <td>良好</td>\n",
       "      <td>1.0</td>\n",
       "      <td>NaN</td>\n",
       "      <td>9.4</td>\n",
       "      <td>16</td>\n",
       "      <td>12</td>\n",
       "      <td>4.6</td>\n",
       "      <td>0.5</td>\n",
       "      <td>318</td>\n",
       "      <td>1</td>\n",
       "      <td>6.12</td>\n",
       "      <td>1.48</td>\n",
       "      <td>2015-12-21 01:00</td>\n",
       "    </tr>\n",
       "    <tr>\n",
       "      <th>2</th>\n",
       "      <td>馬公</td>\n",
       "      <td>澎湖縣</td>\n",
       "      <td>35</td>\n",
       "      <td>NaN</td>\n",
       "      <td>良好</td>\n",
       "      <td>1.1</td>\n",
       "      <td>0.18</td>\n",
       "      <td>35.0</td>\n",
       "      <td>34</td>\n",
       "      <td>23</td>\n",
       "      <td>3.6</td>\n",
       "      <td>2.0</td>\n",
       "      <td>68</td>\n",
       "      <td>2</td>\n",
       "      <td>4.26</td>\n",
       "      <td>0.71</td>\n",
       "      <td>2015-12-21 01:00</td>\n",
       "    </tr>\n",
       "    <tr>\n",
       "      <th>3</th>\n",
       "      <td>金門</td>\n",
       "      <td>金門縣</td>\n",
       "      <td>64</td>\n",
       "      <td>懸浮微粒</td>\n",
       "      <td>普通</td>\n",
       "      <td>4.6</td>\n",
       "      <td>0.38</td>\n",
       "      <td>9.8</td>\n",
       "      <td>79</td>\n",
       "      <td>40</td>\n",
       "      <td>17.0</td>\n",
       "      <td>0.7</td>\n",
       "      <td>109</td>\n",
       "      <td>3</td>\n",
       "      <td>18.74</td>\n",
       "      <td>1.38</td>\n",
       "      <td>2015-12-21 01:00</td>\n",
       "    </tr>\n",
       "    <tr>\n",
       "      <th>4</th>\n",
       "      <td>馬祖</td>\n",
       "      <td>連江縣</td>\n",
       "      <td>0</td>\n",
       "      <td>NaN</td>\n",
       "      <td>NaN</td>\n",
       "      <td>1.4</td>\n",
       "      <td>0.22</td>\n",
       "      <td>22.0</td>\n",
       "      <td>NaN</td>\n",
       "      <td>NaN</td>\n",
       "      <td>7.0</td>\n",
       "      <td>0.5</td>\n",
       "      <td>15</td>\n",
       "      <td>NaN</td>\n",
       "      <td>7.30</td>\n",
       "      <td>0.33</td>\n",
       "      <td>2015-12-21 01:00</td>\n",
       "    </tr>\n",
       "  </tbody>\n",
       "</table>\n",
       "</div>"
      ],
      "text/plain": [
       "  SiteName County  PSI MajorPollutant Status  SO2    CO    O3  PM10  PM2.5  \\\n",
       "0       麥寮    雲林縣   64           懸浮微粒     普通  1.6  0.19  24.0    84     25   \n",
       "1       關山    臺東縣   18            NaN     良好  1.0   NaN   9.4    16     12   \n",
       "2       馬公    澎湖縣   35            NaN     良好  1.1  0.18  35.0    34     23   \n",
       "3       金門    金門縣   64           懸浮微粒     普通  4.6  0.38   9.8    79     40   \n",
       "4       馬祖    連江縣    0            NaN    NaN  1.4  0.22  22.0   NaN    NaN   \n",
       "\n",
       "    NO2  WindSpeed  WindDirec  FPMI    NOx    NO       PublishTime  \n",
       "0   6.0        1.8         58     3   8.40  2.37  2015-12-21 01:00  \n",
       "1   4.6        0.5        318     1   6.12  1.48  2015-12-21 01:00  \n",
       "2   3.6        2.0         68     2   4.26  0.71  2015-12-21 01:00  \n",
       "3  17.0        0.7        109     3  18.74  1.38  2015-12-21 01:00  \n",
       "4   7.0        0.5         15   NaN   7.30  0.33  2015-12-21 01:00  "
      ]
     },
     "execution_count": 208,
     "metadata": {},
     "output_type": "execute_result"
    }
   ],
   "source": [
    "airPollution.head()"
   ]
  },
  {
   "cell_type": "code",
   "execution_count": 224,
   "metadata": {
    "collapsed": false,
    "slideshow": {
     "slide_type": "subslide"
    }
   },
   "outputs": [],
   "source": [
    "airPollution = airPollution.set_index('SiteName')"
   ]
  },
  {
   "cell_type": "code",
   "execution_count": 225,
   "metadata": {
    "collapsed": false,
    "slideshow": {
     "slide_type": "-"
    }
   },
   "outputs": [
    {
     "data": {
      "text/html": [
       "<div>\n",
       "<table border=\"1\" class=\"dataframe\">\n",
       "  <thead>\n",
       "    <tr style=\"text-align: right;\">\n",
       "      <th></th>\n",
       "      <th>County</th>\n",
       "      <th>PSI</th>\n",
       "      <th>MajorPollutant</th>\n",
       "      <th>Status</th>\n",
       "      <th>SO2</th>\n",
       "      <th>CO</th>\n",
       "      <th>O3</th>\n",
       "      <th>PM10</th>\n",
       "      <th>PM2.5</th>\n",
       "      <th>NO2</th>\n",
       "      <th>WindSpeed</th>\n",
       "      <th>WindDirec</th>\n",
       "      <th>FPMI</th>\n",
       "      <th>NOx</th>\n",
       "      <th>NO</th>\n",
       "      <th>PublishTime</th>\n",
       "    </tr>\n",
       "    <tr>\n",
       "      <th>SiteName</th>\n",
       "      <th></th>\n",
       "      <th></th>\n",
       "      <th></th>\n",
       "      <th></th>\n",
       "      <th></th>\n",
       "      <th></th>\n",
       "      <th></th>\n",
       "      <th></th>\n",
       "      <th></th>\n",
       "      <th></th>\n",
       "      <th></th>\n",
       "      <th></th>\n",
       "      <th></th>\n",
       "      <th></th>\n",
       "      <th></th>\n",
       "      <th></th>\n",
       "    </tr>\n",
       "  </thead>\n",
       "  <tbody>\n",
       "    <tr>\n",
       "      <th>麥寮</th>\n",
       "      <td>雲林縣</td>\n",
       "      <td>64</td>\n",
       "      <td>懸浮微粒</td>\n",
       "      <td>普通</td>\n",
       "      <td>1.6</td>\n",
       "      <td>0.19</td>\n",
       "      <td>24.0</td>\n",
       "      <td>84</td>\n",
       "      <td>25</td>\n",
       "      <td>6.0</td>\n",
       "      <td>1.8</td>\n",
       "      <td>58</td>\n",
       "      <td>3</td>\n",
       "      <td>8.40</td>\n",
       "      <td>2.37</td>\n",
       "      <td>2015-12-21 01:00</td>\n",
       "    </tr>\n",
       "    <tr>\n",
       "      <th>關山</th>\n",
       "      <td>臺東縣</td>\n",
       "      <td>18</td>\n",
       "      <td>NaN</td>\n",
       "      <td>良好</td>\n",
       "      <td>1.0</td>\n",
       "      <td>NaN</td>\n",
       "      <td>9.4</td>\n",
       "      <td>16</td>\n",
       "      <td>12</td>\n",
       "      <td>4.6</td>\n",
       "      <td>0.5</td>\n",
       "      <td>318</td>\n",
       "      <td>1</td>\n",
       "      <td>6.12</td>\n",
       "      <td>1.48</td>\n",
       "      <td>2015-12-21 01:00</td>\n",
       "    </tr>\n",
       "    <tr>\n",
       "      <th>馬公</th>\n",
       "      <td>澎湖縣</td>\n",
       "      <td>35</td>\n",
       "      <td>NaN</td>\n",
       "      <td>良好</td>\n",
       "      <td>1.1</td>\n",
       "      <td>0.18</td>\n",
       "      <td>35.0</td>\n",
       "      <td>34</td>\n",
       "      <td>23</td>\n",
       "      <td>3.6</td>\n",
       "      <td>2.0</td>\n",
       "      <td>68</td>\n",
       "      <td>2</td>\n",
       "      <td>4.26</td>\n",
       "      <td>0.71</td>\n",
       "      <td>2015-12-21 01:00</td>\n",
       "    </tr>\n",
       "    <tr>\n",
       "      <th>金門</th>\n",
       "      <td>金門縣</td>\n",
       "      <td>64</td>\n",
       "      <td>懸浮微粒</td>\n",
       "      <td>普通</td>\n",
       "      <td>4.6</td>\n",
       "      <td>0.38</td>\n",
       "      <td>9.8</td>\n",
       "      <td>79</td>\n",
       "      <td>40</td>\n",
       "      <td>17.0</td>\n",
       "      <td>0.7</td>\n",
       "      <td>109</td>\n",
       "      <td>3</td>\n",
       "      <td>18.74</td>\n",
       "      <td>1.38</td>\n",
       "      <td>2015-12-21 01:00</td>\n",
       "    </tr>\n",
       "    <tr>\n",
       "      <th>馬祖</th>\n",
       "      <td>連江縣</td>\n",
       "      <td>0</td>\n",
       "      <td>NaN</td>\n",
       "      <td>NaN</td>\n",
       "      <td>1.4</td>\n",
       "      <td>0.22</td>\n",
       "      <td>22.0</td>\n",
       "      <td>NaN</td>\n",
       "      <td>NaN</td>\n",
       "      <td>7.0</td>\n",
       "      <td>0.5</td>\n",
       "      <td>15</td>\n",
       "      <td>NaN</td>\n",
       "      <td>7.30</td>\n",
       "      <td>0.33</td>\n",
       "      <td>2015-12-21 01:00</td>\n",
       "    </tr>\n",
       "  </tbody>\n",
       "</table>\n",
       "</div>"
      ],
      "text/plain": [
       "         County  PSI MajorPollutant Status  SO2    CO    O3  PM10  PM2.5  \\\n",
       "SiteName                                                                   \n",
       "麥寮          雲林縣   64           懸浮微粒     普通  1.6  0.19  24.0    84     25   \n",
       "關山          臺東縣   18            NaN     良好  1.0   NaN   9.4    16     12   \n",
       "馬公          澎湖縣   35            NaN     良好  1.1  0.18  35.0    34     23   \n",
       "金門          金門縣   64           懸浮微粒     普通  4.6  0.38   9.8    79     40   \n",
       "馬祖          連江縣    0            NaN    NaN  1.4  0.22  22.0   NaN    NaN   \n",
       "\n",
       "           NO2  WindSpeed  WindDirec  FPMI    NOx    NO       PublishTime  \n",
       "SiteName                                                                   \n",
       "麥寮         6.0        1.8         58     3   8.40  2.37  2015-12-21 01:00  \n",
       "關山         4.6        0.5        318     1   6.12  1.48  2015-12-21 01:00  \n",
       "馬公         3.6        2.0         68     2   4.26  0.71  2015-12-21 01:00  \n",
       "金門        17.0        0.7        109     3  18.74  1.38  2015-12-21 01:00  \n",
       "馬祖         7.0        0.5         15   NaN   7.30  0.33  2015-12-21 01:00  "
      ]
     },
     "execution_count": 225,
     "metadata": {},
     "output_type": "execute_result"
    }
   ],
   "source": [
    "airPollution.head()"
   ]
  },
  {
   "cell_type": "code",
   "execution_count": 255,
   "metadata": {
    "collapsed": false,
    "slideshow": {
     "slide_type": "subslide"
    }
   },
   "outputs": [
    {
     "data": {
      "text/plain": [
       "County                         臺東縣\n",
       "PSI                             18\n",
       "MajorPollutant                 NaN\n",
       "Status                          良好\n",
       "SO2                              1\n",
       "CO                             NaN\n",
       "O3                             9.4\n",
       "PM10                            16\n",
       "PM2.5                           12\n",
       "NO2                            4.6\n",
       "WindSpeed                      0.5\n",
       "WindDirec                      318\n",
       "FPMI                             1\n",
       "NOx                           6.12\n",
       "NO                            1.48\n",
       "PublishTime       2015-12-21 01:00\n",
       "Name: 關山, dtype: object"
      ]
     },
     "execution_count": 255,
     "metadata": {},
     "output_type": "execute_result"
    }
   ],
   "source": [
    "airPollution.ix['關山']"
   ]
  },
  {
   "cell_type": "markdown",
   "metadata": {},
   "source": [
    "## 親身經驗\n",
    "* 多想兩分鐘，你可以節省兩天"
   ]
  },
  {
   "cell_type": "markdown",
   "metadata": {
    "slideshow": {
     "slide_type": "slide"
    }
   },
   "source": [
    "# Groupby\n",
    "* 補充資料：http://pandas.pydata.org/pandas-docs/stable/groupby.html"
   ]
  },
  {
   "cell_type": "code",
   "execution_count": 285,
   "metadata": {
    "collapsed": false
   },
   "outputs": [
    {
     "data": {
      "text/html": [
       "<div>\n",
       "<table border=\"1\" class=\"dataframe\">\n",
       "  <thead>\n",
       "    <tr style=\"text-align: right;\">\n",
       "      <th></th>\n",
       "      <th>PSI</th>\n",
       "      <th>SO2</th>\n",
       "      <th>CO</th>\n",
       "      <th>O3</th>\n",
       "      <th>PM10</th>\n",
       "      <th>PM2.5</th>\n",
       "      <th>NO2</th>\n",
       "      <th>WindSpeed</th>\n",
       "      <th>WindDirec</th>\n",
       "      <th>FPMI</th>\n",
       "      <th>NOx</th>\n",
       "      <th>NO</th>\n",
       "    </tr>\n",
       "    <tr>\n",
       "      <th>County</th>\n",
       "      <th></th>\n",
       "      <th></th>\n",
       "      <th></th>\n",
       "      <th></th>\n",
       "      <th></th>\n",
       "      <th></th>\n",
       "      <th></th>\n",
       "      <th></th>\n",
       "      <th></th>\n",
       "      <th></th>\n",
       "      <th></th>\n",
       "      <th></th>\n",
       "    </tr>\n",
       "  </thead>\n",
       "  <tbody>\n",
       "    <tr>\n",
       "      <th>南投縣</th>\n",
       "      <td>71.666667</td>\n",
       "      <td>3.433333</td>\n",
       "      <td>0.683333</td>\n",
       "      <td>6.033333</td>\n",
       "      <td>96.666667</td>\n",
       "      <td>63.0</td>\n",
       "      <td>23.666667</td>\n",
       "      <td>0.833333</td>\n",
       "      <td>159.333333</td>\n",
       "      <td>7.333333</td>\n",
       "      <td>25.656667</td>\n",
       "      <td>2.110</td>\n",
       "    </tr>\n",
       "    <tr>\n",
       "      <th>嘉義市</th>\n",
       "      <td>79.000000</td>\n",
       "      <td>3.700000</td>\n",
       "      <td>0.730000</td>\n",
       "      <td>5.800000</td>\n",
       "      <td>121.000000</td>\n",
       "      <td>54.0</td>\n",
       "      <td>26.000000</td>\n",
       "      <td>2.200000</td>\n",
       "      <td>334.000000</td>\n",
       "      <td>5.000000</td>\n",
       "      <td>26.840000</td>\n",
       "      <td>0.760</td>\n",
       "    </tr>\n",
       "    <tr>\n",
       "      <th>嘉義縣</th>\n",
       "      <td>71.000000</td>\n",
       "      <td>2.350000</td>\n",
       "      <td>0.295000</td>\n",
       "      <td>16.500000</td>\n",
       "      <td>74.000000</td>\n",
       "      <td>23.0</td>\n",
       "      <td>10.150000</td>\n",
       "      <td>1.500000</td>\n",
       "      <td>327.000000</td>\n",
       "      <td>3.500000</td>\n",
       "      <td>11.450000</td>\n",
       "      <td>1.360</td>\n",
       "    </tr>\n",
       "    <tr>\n",
       "      <th>基隆市</th>\n",
       "      <td>47.000000</td>\n",
       "      <td>4.400000</td>\n",
       "      <td>0.800000</td>\n",
       "      <td>2.800000</td>\n",
       "      <td>56.000000</td>\n",
       "      <td>43.0</td>\n",
       "      <td>38.000000</td>\n",
       "      <td>1.100000</td>\n",
       "      <td>83.000000</td>\n",
       "      <td>3.000000</td>\n",
       "      <td>42.770000</td>\n",
       "      <td>4.630</td>\n",
       "    </tr>\n",
       "    <tr>\n",
       "      <th>宜蘭縣</th>\n",
       "      <td>36.500000</td>\n",
       "      <td>3.000000</td>\n",
       "      <td>0.230000</td>\n",
       "      <td>14.000000</td>\n",
       "      <td>36.000000</td>\n",
       "      <td>7.5</td>\n",
       "      <td>7.550000</td>\n",
       "      <td>0.800000</td>\n",
       "      <td>250.000000</td>\n",
       "      <td>1.000000</td>\n",
       "      <td>9.315000</td>\n",
       "      <td>1.785</td>\n",
       "    </tr>\n",
       "  </tbody>\n",
       "</table>\n",
       "</div>"
      ],
      "text/plain": [
       "              PSI       SO2        CO         O3        PM10  PM2.5  \\\n",
       "County                                                                \n",
       "南投縣     71.666667  3.433333  0.683333   6.033333   96.666667   63.0   \n",
       "嘉義市     79.000000  3.700000  0.730000   5.800000  121.000000   54.0   \n",
       "嘉義縣     71.000000  2.350000  0.295000  16.500000   74.000000   23.0   \n",
       "基隆市     47.000000  4.400000  0.800000   2.800000   56.000000   43.0   \n",
       "宜蘭縣     36.500000  3.000000  0.230000  14.000000   36.000000    7.5   \n",
       "\n",
       "              NO2  WindSpeed   WindDirec      FPMI        NOx     NO  \n",
       "County                                                                \n",
       "南投縣     23.666667   0.833333  159.333333  7.333333  25.656667  2.110  \n",
       "嘉義市     26.000000   2.200000  334.000000  5.000000  26.840000  0.760  \n",
       "嘉義縣     10.150000   1.500000  327.000000  3.500000  11.450000  1.360  \n",
       "基隆市     38.000000   1.100000   83.000000  3.000000  42.770000  4.630  \n",
       "宜蘭縣      7.550000   0.800000  250.000000  1.000000   9.315000  1.785  "
      ]
     },
     "execution_count": 285,
     "metadata": {},
     "output_type": "execute_result"
    }
   ],
   "source": [
    "airPollution.groupby('County').mean().head()"
   ]
  },
  {
   "cell_type": "code",
   "execution_count": 286,
   "metadata": {
    "collapsed": false
   },
   "outputs": [
    {
     "data": {
      "text/plain": [
       "County\n",
       "南投縣    63.000000\n",
       "嘉義市    54.000000\n",
       "嘉義縣    23.000000\n",
       "基隆市    43.000000\n",
       "宜蘭縣     7.500000\n",
       "屏東縣    50.000000\n",
       "彰化縣    23.666667\n",
       "新北市    46.000000\n",
       "新竹市    21.000000\n",
       "新竹縣    28.500000\n",
       "桃園市    31.500000\n",
       "澎湖縣    23.000000\n",
       "臺中市    33.800000\n",
       "臺北市    39.285714\n",
       "臺南市    40.000000\n",
       "臺東縣     7.500000\n",
       "花蓮縣    13.000000\n",
       "苗栗縣    35.666667\n",
       "連江縣          NaN\n",
       "金門縣    40.000000\n",
       "雲林縣    28.000000\n",
       "高雄市    68.166667\n",
       "Name: PM2.5, dtype: float64"
      ]
     },
     "execution_count": 286,
     "metadata": {},
     "output_type": "execute_result"
    }
   ],
   "source": [
    "airPollution.groupby('County').mean()['PM2.5']"
   ]
  },
  {
   "cell_type": "markdown",
   "metadata": {
    "slideshow": {
     "slide_type": "slide"
    }
   },
   "source": [
    "# Sort"
   ]
  },
  {
   "cell_type": "code",
   "execution_count": 304,
   "metadata": {
    "collapsed": false
   },
   "outputs": [
    {
     "data": {
      "text/plain": [
       "County\n",
       "高雄市    68.166667\n",
       "南投縣    63.000000\n",
       "嘉義市    54.000000\n",
       "屏東縣    50.000000\n",
       "新北市    46.000000\n",
       "基隆市    43.000000\n",
       "金門縣    40.000000\n",
       "臺南市    40.000000\n",
       "臺北市    39.285714\n",
       "苗栗縣    35.666667\n",
       "臺中市    33.800000\n",
       "桃園市    31.500000\n",
       "新竹縣    28.500000\n",
       "雲林縣    28.000000\n",
       "彰化縣    23.666667\n",
       "澎湖縣    23.000000\n",
       "嘉義縣    23.000000\n",
       "新竹市    21.000000\n",
       "花蓮縣    13.000000\n",
       "宜蘭縣     7.500000\n",
       "臺東縣     7.500000\n",
       "連江縣          NaN\n",
       "Name: PM2.5, dtype: float64"
      ]
     },
     "execution_count": 304,
     "metadata": {},
     "output_type": "execute_result"
    }
   ],
   "source": [
    "airPollution.groupby('County').mean()['PM2.5'].sort_values(ascending=False)"
   ]
  },
  {
   "cell_type": "code",
   "execution_count": 305,
   "metadata": {
    "collapsed": false,
    "slideshow": {
     "slide_type": "subslide"
    }
   },
   "outputs": [
    {
     "data": {
      "text/html": [
       "<div>\n",
       "<table border=\"1\" class=\"dataframe\">\n",
       "  <thead>\n",
       "    <tr style=\"text-align: right;\">\n",
       "      <th></th>\n",
       "      <th>PSI</th>\n",
       "      <th>SO2</th>\n",
       "      <th>CO</th>\n",
       "      <th>O3</th>\n",
       "      <th>PM10</th>\n",
       "      <th>PM2.5</th>\n",
       "      <th>NO2</th>\n",
       "      <th>WindSpeed</th>\n",
       "      <th>WindDirec</th>\n",
       "      <th>FPMI</th>\n",
       "      <th>NOx</th>\n",
       "      <th>NO</th>\n",
       "    </tr>\n",
       "    <tr>\n",
       "      <th>County</th>\n",
       "      <th></th>\n",
       "      <th></th>\n",
       "      <th></th>\n",
       "      <th></th>\n",
       "      <th></th>\n",
       "      <th></th>\n",
       "      <th></th>\n",
       "      <th></th>\n",
       "      <th></th>\n",
       "      <th></th>\n",
       "      <th></th>\n",
       "      <th></th>\n",
       "    </tr>\n",
       "  </thead>\n",
       "  <tbody>\n",
       "    <tr>\n",
       "      <th>高雄市</th>\n",
       "      <td>79.250000</td>\n",
       "      <td>3.691667</td>\n",
       "      <td>0.654167</td>\n",
       "      <td>12.408333</td>\n",
       "      <td>117.833333</td>\n",
       "      <td>68.166667</td>\n",
       "      <td>22.833333</td>\n",
       "      <td>1.200000</td>\n",
       "      <td>121.925000</td>\n",
       "      <td>7.333333</td>\n",
       "      <td>25.410000</td>\n",
       "      <td>2.465833</td>\n",
       "    </tr>\n",
       "    <tr>\n",
       "      <th>南投縣</th>\n",
       "      <td>71.666667</td>\n",
       "      <td>3.433333</td>\n",
       "      <td>0.683333</td>\n",
       "      <td>6.033333</td>\n",
       "      <td>96.666667</td>\n",
       "      <td>63.000000</td>\n",
       "      <td>23.666667</td>\n",
       "      <td>0.833333</td>\n",
       "      <td>159.333333</td>\n",
       "      <td>7.333333</td>\n",
       "      <td>25.656667</td>\n",
       "      <td>2.110000</td>\n",
       "    </tr>\n",
       "    <tr>\n",
       "      <th>嘉義市</th>\n",
       "      <td>79.000000</td>\n",
       "      <td>3.700000</td>\n",
       "      <td>0.730000</td>\n",
       "      <td>5.800000</td>\n",
       "      <td>121.000000</td>\n",
       "      <td>54.000000</td>\n",
       "      <td>26.000000</td>\n",
       "      <td>2.200000</td>\n",
       "      <td>334.000000</td>\n",
       "      <td>5.000000</td>\n",
       "      <td>26.840000</td>\n",
       "      <td>0.760000</td>\n",
       "    </tr>\n",
       "    <tr>\n",
       "      <th>屏東縣</th>\n",
       "      <td>60.333333</td>\n",
       "      <td>1.833333</td>\n",
       "      <td>0.426667</td>\n",
       "      <td>21.000000</td>\n",
       "      <td>82.666667</td>\n",
       "      <td>50.000000</td>\n",
       "      <td>12.933333</td>\n",
       "      <td>2.633333</td>\n",
       "      <td>36.000000</td>\n",
       "      <td>5.000000</td>\n",
       "      <td>14.163333</td>\n",
       "      <td>1.006667</td>\n",
       "    </tr>\n",
       "    <tr>\n",
       "      <th>新北市</th>\n",
       "      <td>59.909091</td>\n",
       "      <td>4.000000</td>\n",
       "      <td>1.004545</td>\n",
       "      <td>6.590000</td>\n",
       "      <td>78.000000</td>\n",
       "      <td>46.000000</td>\n",
       "      <td>33.436364</td>\n",
       "      <td>1.288889</td>\n",
       "      <td>226.000000</td>\n",
       "      <td>4.545455</td>\n",
       "      <td>53.244545</td>\n",
       "      <td>19.907273</td>\n",
       "    </tr>\n",
       "  </tbody>\n",
       "</table>\n",
       "</div>"
      ],
      "text/plain": [
       "              PSI       SO2        CO         O3        PM10      PM2.5  \\\n",
       "County                                                                    \n",
       "高雄市     79.250000  3.691667  0.654167  12.408333  117.833333  68.166667   \n",
       "南投縣     71.666667  3.433333  0.683333   6.033333   96.666667  63.000000   \n",
       "嘉義市     79.000000  3.700000  0.730000   5.800000  121.000000  54.000000   \n",
       "屏東縣     60.333333  1.833333  0.426667  21.000000   82.666667  50.000000   \n",
       "新北市     59.909091  4.000000  1.004545   6.590000   78.000000  46.000000   \n",
       "\n",
       "              NO2  WindSpeed   WindDirec      FPMI        NOx         NO  \n",
       "County                                                                    \n",
       "高雄市     22.833333   1.200000  121.925000  7.333333  25.410000   2.465833  \n",
       "南投縣     23.666667   0.833333  159.333333  7.333333  25.656667   2.110000  \n",
       "嘉義市     26.000000   2.200000  334.000000  5.000000  26.840000   0.760000  \n",
       "屏東縣     12.933333   2.633333   36.000000  5.000000  14.163333   1.006667  \n",
       "新北市     33.436364   1.288889  226.000000  4.545455  53.244545  19.907273  "
      ]
     },
     "execution_count": 305,
     "metadata": {},
     "output_type": "execute_result"
    }
   ],
   "source": [
    "airPollution.groupby('County').mean().sort_values(by=['PM2.5'], ascending=False).head()"
   ]
  },
  {
   "cell_type": "markdown",
   "metadata": {
    "slideshow": {
     "slide_type": "slide"
    }
   },
   "source": [
    "# 最後想跟大家說的是"
   ]
  },
  {
   "cell_type": "code",
   "execution_count": 238,
   "metadata": {
    "collapsed": true,
    "slideshow": {
     "slide_type": "fragment"
    }
   },
   "outputs": [],
   "source": [
    "t = np.arange(0,2*np.pi, 0.1)"
   ]
  },
  {
   "cell_type": "code",
   "execution_count": 239,
   "metadata": {
    "collapsed": false
   },
   "outputs": [],
   "source": [
    "x = 16*np.sin(t)**3"
   ]
  },
  {
   "cell_type": "code",
   "execution_count": 240,
   "metadata": {
    "collapsed": true
   },
   "outputs": [],
   "source": [
    "y = 13*np.cos(t)-5*np.cos(2*t)-2*np.cos(3*t)-np.cos(4*t)"
   ]
  },
  {
   "cell_type": "code",
   "execution_count": 242,
   "metadata": {
    "collapsed": false,
    "slideshow": {
     "slide_type": "fragment"
    }
   },
   "outputs": [
    {
     "data": {
      "text/plain": [
       "[<matplotlib.lines.Line2D at 0x7f7bed4257f0>]"
      ]
     },
     "execution_count": 242,
     "metadata": {},
     "output_type": "execute_result"
    },
    {
     "data": {
      "image/png": "[encoded data removed]",
      "text/plain": [
       "<matplotlib.figure.Figure at 0x7f7bed5108d0>"
      ]
     },
     "metadata": {},
     "output_type": "display_data"
    }
   ],
   "source": [
    "plot(x, y)"
   ]
  },
  {
   "cell_type": "markdown",
   "metadata": {
    "slideshow": {
     "slide_type": "slide"
    }
   },
   "source": [
    "<img  src=\"10672358_838534209504682_6668943752399747165_n.jpg\"/>"
   ]
  },
  {
   "cell_type": "markdown",
   "metadata": {
    "slideshow": {
     "slide_type": "slide"
    }
   },
   "source": [
    "<img  src=\"20080321Part05PARTIII01315623-38-30.jpg\"/>"
   ]
  }
 ],
 "metadata": {
  "celltoolbar": "Slideshow",
  "gist": {
   "data": {
    "description": "Pandas.ipynb",
    "public": false
   },
   "id": ""
  },
  "kernelspec": {
   "display_name": "Python 3",
   "language": "python",
   "name": "python3"
  },
  "language_info": {
   "codemirror_mode": {
    "name": "ipython",
    "version": 3
   },
   "file_extension": ".py",
   "mimetype": "text/x-python",
   "name": "python",
   "nbconvert_exporter": "python",
   "pygments_lexer": "ipython3",
   "version": "3.4.3"
  }
 },
 "nbformat": 4,
 "nbformat_minor": 0
}
